{
  "nbformat": 4,
  "nbformat_minor": 0,
  "metadata": {
    "colab": {
      "name": "VIHAAN_Hypothesis_testing_model.ipynb",
      "provenance": [],
      "collapsed_sections": []
    },
    "kernelspec": {
      "name": "python3",
      "display_name": "Python 3"
    },
    "language_info": {
      "name": "python"
    }
  },
  "cells": [
    {
      "cell_type": "markdown",
      "metadata": {
        "id": "FkY9BDNnrNxr"
      },
      "source": [
        "**Hypothesis Testing using different methods**"
      ]
    },
    {
      "cell_type": "code",
      "metadata": {
        "id": "vAtHoyBlV20v"
      },
      "source": [
        "import numpy as np\n",
        "import pandas as pd\n",
        "import matplotlib.pyplot as plt\n",
        "import seaborn as sns\n",
        "import warnings\n",
        "warnings.filterwarnings('ignore')\n",
        "sns.set()"
      ],
      "execution_count": null,
      "outputs": []
    },
    {
      "cell_type": "code",
      "metadata": {
        "id": "oOfRnLzLzT96"
      },
      "source": [
        "import pandas as pd\n",
        "from scipy import stats"
      ],
      "execution_count": null,
      "outputs": []
    },
    {
      "cell_type": "code",
      "metadata": {
        "colab": {
          "base_uri": "https://localhost:8080/"
        },
        "id": "UqLeZysz5CW0",
        "outputId": "e9f753c3-4ed0-4206-b2a4-9ad49f8b93f2"
      },
      "source": [
        "from google.colab import drive\n",
        "drive.mount('/content/drive')"
      ],
      "execution_count": null,
      "outputs": [
        {
          "output_type": "stream",
          "text": [
            "Mounted at /content/drive\n"
          ],
          "name": "stdout"
        }
      ]
    },
    {
      "cell_type": "markdown",
      "metadata": {
        "id": "QmcGKWkOThOL"
      },
      "source": [
        "REading the file"
      ]
    },
    {
      "cell_type": "code",
      "metadata": {
        "id": "8Nc2T63h5Ojt"
      },
      "source": [
        "data = pd.read_csv('/content/drive/MyDrive/capstone_final_preprocessed_data.csv')"
      ],
      "execution_count": null,
      "outputs": []
    },
    {
      "cell_type": "code",
      "metadata": {
        "id": "RhRy5-vKaYzx"
      },
      "source": [
        "data=data.drop('Unnamed: 0',axis=1)"
      ],
      "execution_count": null,
      "outputs": []
    },
    {
      "cell_type": "code",
      "metadata": {
        "colab": {
          "base_uri": "https://localhost:8080/",
          "height": 391
        },
        "id": "C_N1oIu-6tbN",
        "outputId": "81a11982-8521-497f-b168-7977f6b25513"
      },
      "source": [
        "data.head()"
      ],
      "execution_count": null,
      "outputs": [
        {
          "output_type": "execute_result",
          "data": {
            "text/html": [
              "<div>\n",
              "<style scoped>\n",
              "    .dataframe tbody tr th:only-of-type {\n",
              "        vertical-align: middle;\n",
              "    }\n",
              "\n",
              "    .dataframe tbody tr th {\n",
              "        vertical-align: top;\n",
              "    }\n",
              "\n",
              "    .dataframe thead th {\n",
              "        text-align: right;\n",
              "    }\n",
              "</style>\n",
              "<table border=\"1\" class=\"dataframe\">\n",
              "  <thead>\n",
              "    <tr style=\"text-align: right;\">\n",
              "      <th></th>\n",
              "      <th>Permit Number</th>\n",
              "      <th>Permit Type</th>\n",
              "      <th>Permit Type Definition</th>\n",
              "      <th>Permit Creation Date</th>\n",
              "      <th>Block</th>\n",
              "      <th>Lot</th>\n",
              "      <th>Street Number</th>\n",
              "      <th>Street Name</th>\n",
              "      <th>Street Suffix</th>\n",
              "      <th>Description</th>\n",
              "      <th>Current Status</th>\n",
              "      <th>Current Status Date</th>\n",
              "      <th>Filed Date</th>\n",
              "      <th>Issued Date</th>\n",
              "      <th>First Construction Document Date</th>\n",
              "      <th>Number of Existing Stories</th>\n",
              "      <th>Number of Proposed Stories</th>\n",
              "      <th>Permit Expiration Date</th>\n",
              "      <th>Estimated Cost</th>\n",
              "      <th>Revised Cost</th>\n",
              "      <th>Existing Use</th>\n",
              "      <th>Existing Units</th>\n",
              "      <th>Proposed Use</th>\n",
              "      <th>Proposed Units</th>\n",
              "      <th>Plansets</th>\n",
              "      <th>Existing Construction Type</th>\n",
              "      <th>Existing Construction Type Description</th>\n",
              "      <th>Proposed Construction Type</th>\n",
              "      <th>Proposed Construction Type Description</th>\n",
              "      <th>Supervisor District</th>\n",
              "      <th>Neighborhoods - Analysis Boundaries</th>\n",
              "      <th>Zipcode</th>\n",
              "      <th>Location</th>\n",
              "      <th>Record ID</th>\n",
              "    </tr>\n",
              "  </thead>\n",
              "  <tbody>\n",
              "    <tr>\n",
              "      <th>0</th>\n",
              "      <td>201505065519</td>\n",
              "      <td>4</td>\n",
              "      <td>sign__erect</td>\n",
              "      <td>05/06/2015</td>\n",
              "      <td>0326</td>\n",
              "      <td>023</td>\n",
              "      <td>140</td>\n",
              "      <td>Ellis</td>\n",
              "      <td>St</td>\n",
              "      <td>ground fl facade: to erect illuminated, electr...</td>\n",
              "      <td>expired</td>\n",
              "      <td>12/21/2017</td>\n",
              "      <td>05/06/2015</td>\n",
              "      <td>11/09/2015</td>\n",
              "      <td>11/09/2015</td>\n",
              "      <td>6.0</td>\n",
              "      <td>6.0</td>\n",
              "      <td>11/03/2016</td>\n",
              "      <td>4000.0</td>\n",
              "      <td>4000.0</td>\n",
              "      <td>tourist_hotel/motel</td>\n",
              "      <td>143.0</td>\n",
              "      <td>tourist_hotel_motel</td>\n",
              "      <td>143.0</td>\n",
              "      <td>2.0</td>\n",
              "      <td>3.0</td>\n",
              "      <td>constr_type_3</td>\n",
              "      <td>3.0</td>\n",
              "      <td>constr_type_3</td>\n",
              "      <td>3.0</td>\n",
              "      <td>tenderloin</td>\n",
              "      <td>94102.0</td>\n",
              "      <td>(37.785719256680785, -122.40852313194863)</td>\n",
              "      <td>1380611233945</td>\n",
              "    </tr>\n",
              "    <tr>\n",
              "      <th>1</th>\n",
              "      <td>201604195146</td>\n",
              "      <td>4</td>\n",
              "      <td>sign__erect</td>\n",
              "      <td>04/19/2016</td>\n",
              "      <td>0306</td>\n",
              "      <td>007</td>\n",
              "      <td>440</td>\n",
              "      <td>Geary</td>\n",
              "      <td>St</td>\n",
              "      <td>remove (e) awning and associated signs.</td>\n",
              "      <td>issued</td>\n",
              "      <td>08/03/2017</td>\n",
              "      <td>04/19/2016</td>\n",
              "      <td>08/03/2017</td>\n",
              "      <td>08/03/2017</td>\n",
              "      <td>7.0</td>\n",
              "      <td>7.0</td>\n",
              "      <td>12/03/2017</td>\n",
              "      <td>1.0</td>\n",
              "      <td>500.0</td>\n",
              "      <td>tourist_hotel/motel</td>\n",
              "      <td>143.0</td>\n",
              "      <td>tourist_hotel_motel</td>\n",
              "      <td>143.0</td>\n",
              "      <td>2.0</td>\n",
              "      <td>3.0</td>\n",
              "      <td>constr_type_3</td>\n",
              "      <td>3.0</td>\n",
              "      <td>constr_type_3</td>\n",
              "      <td>3.0</td>\n",
              "      <td>tenderloin</td>\n",
              "      <td>94102.0</td>\n",
              "      <td>(37.78733980600732, -122.41063199757738)</td>\n",
              "      <td>1420164406718</td>\n",
              "    </tr>\n",
              "    <tr>\n",
              "      <th>2</th>\n",
              "      <td>201611072166</td>\n",
              "      <td>8</td>\n",
              "      <td>otc_alterations_permit</td>\n",
              "      <td>11/07/2016</td>\n",
              "      <td>0156</td>\n",
              "      <td>011</td>\n",
              "      <td>1230</td>\n",
              "      <td>Pacific</td>\n",
              "      <td>Av</td>\n",
              "      <td>repair dryrot &amp; stucco at front of bldg.</td>\n",
              "      <td>complete</td>\n",
              "      <td>07/24/2017</td>\n",
              "      <td>11/07/2016</td>\n",
              "      <td>07/18/2017</td>\n",
              "      <td>07/18/2017</td>\n",
              "      <td>2.0</td>\n",
              "      <td>2.0</td>\n",
              "      <td>07/13/2018</td>\n",
              "      <td>2000.0</td>\n",
              "      <td>2000.0</td>\n",
              "      <td>1_family_dwelling</td>\n",
              "      <td>1.0</td>\n",
              "      <td>1_family_dwelling</td>\n",
              "      <td>1.0</td>\n",
              "      <td>2.0</td>\n",
              "      <td>5.0</td>\n",
              "      <td>wood_frame_5</td>\n",
              "      <td>5.0</td>\n",
              "      <td>wood_frame_5</td>\n",
              "      <td>3.0</td>\n",
              "      <td>nob_hill</td>\n",
              "      <td>94109.0</td>\n",
              "      <td>(37.79595867909168, -122.41557405519474)</td>\n",
              "      <td>1443574295566</td>\n",
              "    </tr>\n",
              "    <tr>\n",
              "      <th>3</th>\n",
              "      <td>201611283529</td>\n",
              "      <td>6</td>\n",
              "      <td>demolitions</td>\n",
              "      <td>11/28/2016</td>\n",
              "      <td>0342</td>\n",
              "      <td>001</td>\n",
              "      <td>950</td>\n",
              "      <td>Market</td>\n",
              "      <td>St</td>\n",
              "      <td>demolish retail/office/commercial 3-story buil...</td>\n",
              "      <td>issued</td>\n",
              "      <td>12/01/2017</td>\n",
              "      <td>11/28/2016</td>\n",
              "      <td>12/01/2017</td>\n",
              "      <td>11/20/2017</td>\n",
              "      <td>3.0</td>\n",
              "      <td>3.0</td>\n",
              "      <td>12/01/2018</td>\n",
              "      <td>100000.0</td>\n",
              "      <td>100000.0</td>\n",
              "      <td>retail_sales</td>\n",
              "      <td>1.0</td>\n",
              "      <td>retail_sales</td>\n",
              "      <td>1.0</td>\n",
              "      <td>2.0</td>\n",
              "      <td>3.0</td>\n",
              "      <td>constr_type_3</td>\n",
              "      <td>3.0</td>\n",
              "      <td>constr_type_3</td>\n",
              "      <td>6.0</td>\n",
              "      <td>tenderloin</td>\n",
              "      <td>94102.0</td>\n",
              "      <td>(37.78315261897309, -122.40950883997789)</td>\n",
              "      <td>144548169992</td>\n",
              "    </tr>\n",
              "    <tr>\n",
              "      <th>4</th>\n",
              "      <td>201706149344</td>\n",
              "      <td>8</td>\n",
              "      <td>otc_alterations_permit</td>\n",
              "      <td>06/14/2017</td>\n",
              "      <td>4105</td>\n",
              "      <td>009</td>\n",
              "      <td>800</td>\n",
              "      <td>Indiana</td>\n",
              "      <td>St</td>\n",
              "      <td>evac maps</td>\n",
              "      <td>issued</td>\n",
              "      <td>07/06/2017</td>\n",
              "      <td>06/14/2017</td>\n",
              "      <td>07/06/2017</td>\n",
              "      <td>07/06/2017</td>\n",
              "      <td>5.0</td>\n",
              "      <td>5.0</td>\n",
              "      <td>07/01/2018</td>\n",
              "      <td>4000.0</td>\n",
              "      <td>4000.0</td>\n",
              "      <td>apartments</td>\n",
              "      <td>326.0</td>\n",
              "      <td>apartments</td>\n",
              "      <td>326.0</td>\n",
              "      <td>2.0</td>\n",
              "      <td>1.0</td>\n",
              "      <td>constr_type_1</td>\n",
              "      <td>1.0</td>\n",
              "      <td>constr_type_1</td>\n",
              "      <td>10.0</td>\n",
              "      <td>potrero_hill</td>\n",
              "      <td>94107.0</td>\n",
              "      <td>(37.75922331346539, -122.39170402628598)</td>\n",
              "      <td>1466911170855</td>\n",
              "    </tr>\n",
              "  </tbody>\n",
              "</table>\n",
              "</div>"
            ],
            "text/plain": [
              "  Permit Number  ...      Record ID\n",
              "0  201505065519  ...  1380611233945\n",
              "1  201604195146  ...  1420164406718\n",
              "2  201611072166  ...  1443574295566\n",
              "3  201611283529  ...   144548169992\n",
              "4  201706149344  ...  1466911170855\n",
              "\n",
              "[5 rows x 34 columns]"
            ]
          },
          "metadata": {
            "tags": []
          },
          "execution_count": 6
        }
      ]
    },
    {
      "cell_type": "code",
      "metadata": {
        "id": "5dYdRbW7wvcp"
      },
      "source": [
        "data['Permit Creation Date'] =  pd.to_datetime(data['Permit Creation Date'], errors='coerce')\n",
        "\n",
        "data['Current Status Date'] =  pd.to_datetime(data['Current Status Date'], errors='coerce')\n",
        "\n",
        "data['Filed Date'] =  pd.to_datetime(data['Filed Date'], errors='coerce')\n",
        "\n",
        "data['Issued Date'] =  pd.to_datetime(data['Issued Date'], errors='coerce')\n",
        "\n",
        "data['First Construction Document Date'] =  pd.to_datetime(data['First Construction Document Date'], errors='coerce')\n",
        "\n",
        "data['Permit Expiration Date'] =  pd.to_datetime(data['Permit Expiration Date'], errors='coerce')"
      ],
      "execution_count": null,
      "outputs": []
    },
    {
      "cell_type": "code",
      "metadata": {
        "colab": {
          "base_uri": "https://localhost:8080/"
        },
        "id": "1jG3Z0h7wb-h",
        "outputId": "d5edfb5a-e4ce-4fd3-8e97-3a0c8d9ad644"
      },
      "source": [
        "data.dtypes[:]"
      ],
      "execution_count": null,
      "outputs": [
        {
          "output_type": "execute_result",
          "data": {
            "text/plain": [
              "Permit Number                                     object\n",
              "Permit Type                                        int64\n",
              "Permit Type Definition                            object\n",
              "Permit Creation Date                      datetime64[ns]\n",
              "Block                                             object\n",
              "Lot                                               object\n",
              "Street Number                                      int64\n",
              "Street Name                                       object\n",
              "Street Suffix                                     object\n",
              "Description                                       object\n",
              "Current Status                                    object\n",
              "Current Status Date                       datetime64[ns]\n",
              "Filed Date                                datetime64[ns]\n",
              "Issued Date                               datetime64[ns]\n",
              "First Construction Document Date          datetime64[ns]\n",
              "Number of Existing Stories                       float64\n",
              "Number of Proposed Stories                       float64\n",
              "Permit Expiration Date                    datetime64[ns]\n",
              "Estimated Cost                                   float64\n",
              "Revised Cost                                     float64\n",
              "Existing Use                                      object\n",
              "Existing Units                                   float64\n",
              "Proposed Use                                      object\n",
              "Proposed Units                                   float64\n",
              "Plansets                                         float64\n",
              "Existing Construction Type                       float64\n",
              "Existing Construction Type Description            object\n",
              "Proposed Construction Type                       float64\n",
              "Proposed Construction Type Description            object\n",
              "Supervisor District                              float64\n",
              "Neighborhoods - Analysis Boundaries               object\n",
              "Zipcode                                          float64\n",
              "Location                                          object\n",
              "Record ID                                          int64\n",
              "dtype: object"
            ]
          },
          "metadata": {
            "tags": []
          },
          "execution_count": 8
        }
      ]
    },
    {
      "cell_type": "markdown",
      "metadata": {
        "id": "smj7A9vHxDxY"
      },
      "source": [
        "**Defining all the numerical columns**"
      ]
    },
    {
      "cell_type": "code",
      "metadata": {
        "colab": {
          "base_uri": "https://localhost:8080/"
        },
        "id": "kzrYjCu0ALaN",
        "outputId": "0ca84eb9-bb58-421e-dec1-7cb2af537937"
      },
      "source": [
        "cols = data.select_dtypes([np.int64,np.float64]).columns\n",
        "aa=list(cols)\n",
        "aa"
      ],
      "execution_count": null,
      "outputs": [
        {
          "output_type": "execute_result",
          "data": {
            "text/plain": [
              "['Permit Type',\n",
              " 'Street Number',\n",
              " 'Number of Existing Stories',\n",
              " 'Number of Proposed Stories',\n",
              " 'Estimated Cost',\n",
              " 'Revised Cost',\n",
              " 'Existing Units',\n",
              " 'Proposed Units',\n",
              " 'Plansets',\n",
              " 'Existing Construction Type',\n",
              " 'Proposed Construction Type',\n",
              " 'Supervisor District',\n",
              " 'Zipcode',\n",
              " 'Record ID']"
            ]
          },
          "metadata": {
            "tags": []
          },
          "execution_count": 26
        }
      ]
    },
    {
      "cell_type": "markdown",
      "metadata": {
        "id": "PWOSWz11xQwB"
      },
      "source": [
        "**Defining all the categorical features**"
      ]
    },
    {
      "cell_type": "code",
      "metadata": {
        "colab": {
          "base_uri": "https://localhost:8080/"
        },
        "id": "Pxx0_zgVxVJt",
        "outputId": "5f74436a-59e5-4dd3-cce6-df567c19410d"
      },
      "source": [
        "c = (data.dtypes == 'object')\n",
        "catcol = list(c[c].index)\n",
        "catcol"
      ],
      "execution_count": null,
      "outputs": [
        {
          "output_type": "execute_result",
          "data": {
            "text/plain": [
              "['Permit Number',\n",
              " 'Permit Type Definition',\n",
              " 'Block',\n",
              " 'Lot',\n",
              " 'Street Name',\n",
              " 'Street Suffix',\n",
              " 'Description',\n",
              " 'Current Status',\n",
              " 'Existing Use',\n",
              " 'Proposed Use',\n",
              " 'Existing Construction Type Description',\n",
              " 'Proposed Construction Type Description',\n",
              " 'Neighborhoods - Analysis Boundaries',\n",
              " 'Location']"
            ]
          },
          "metadata": {
            "tags": []
          },
          "execution_count": 10
        }
      ]
    },
    {
      "cell_type": "code",
      "metadata": {
        "colab": {
          "base_uri": "https://localhost:8080/"
        },
        "id": "yqmutpf506RR",
        "outputId": "29d38f3a-9be8-49b8-c7e8-ffaf044c1fe1"
      },
      "source": [
        "data['Existing Construction Type Description'].unique()"
      ],
      "execution_count": null,
      "outputs": [
        {
          "output_type": "execute_result",
          "data": {
            "text/plain": [
              "array(['constr_type_3', 'wood_frame_5', 'constr_type_1', 'constr_type_4',\n",
              "       'constr_type_2'], dtype=object)"
            ]
          },
          "metadata": {
            "tags": []
          },
          "execution_count": 11
        }
      ]
    },
    {
      "cell_type": "markdown",
      "metadata": {
        "id": "7598k_N4zHIz"
      },
      "source": [
        "**Does Existing Construction Type Description have any significance with any other field in the dataset?**"
      ]
    },
    {
      "cell_type": "markdown",
      "metadata": {
        "id": "5zQWHjMAXkqv"
      },
      "source": [
        "**Chi-Squared Test** (category vs category)"
      ]
    },
    {
      "cell_type": "code",
      "metadata": {
        "colab": {
          "base_uri": "https://localhost:8080/"
        },
        "id": "2zy5BTpfWHtJ",
        "outputId": "02879f7e-6edf-416c-e405-970e4ac24f77"
      },
      "source": [
        "for i in catcol:\n",
        "  print(i)\n",
        "  contingency_table=pd.crosstab(data['Existing Construction Type Description'],data[i])\n",
        "  print('contingency_table :-\\n',contingency_table)\n",
        "#Observed Values\n",
        "  Observed_Values = contingency_table.values \n",
        "  print(\"Observed Values :-\\n\",Observed_Values)\n",
        "  b=stats.chi2_contingency(contingency_table)\n",
        "  Expected_Values = b[3]\n",
        "  print(\"Expected Values :-\\n\",Expected_Values)\n",
        "  no_of_rows=len(contingency_table.iloc[0:2,0])\n",
        "  no_of_columns=len(contingency_table.iloc[0,0:2])\n",
        "  ddof=(no_of_rows-1)*(no_of_columns-1)\n",
        "  print(\"Degree of Freedom:-\",ddof)\n",
        "  alpha = 0.05\n",
        "  from scipy.stats import chi2\n",
        "  chi_square=sum([(o-e)**2./e for o,e in zip(Observed_Values,Expected_Values)])\n",
        "  chi_square_statistic=chi_square[0]+chi_square[1]\n",
        "  print(\"chi-square statistic:-\",chi_square_statistic)\n",
        "  critical_value=chi2.ppf(q=1-alpha,df=ddof)\n",
        "  print('critical_value:',critical_value)\n",
        "#p-value\n",
        "  p_value=1-chi2.cdf(x=chi_square_statistic,df=ddof)\n",
        "  print('p-value:',p_value)\n",
        "  print('Significance level: ',alpha)\n",
        "  print('Degree of Freedom: ',ddof)\n",
        "  print('chi-square statistic:',chi_square_statistic)\n",
        "  print('critical_value:',critical_value)\n",
        "  print('p-value:',p_value)\n",
        "  if chi_square_statistic>=critical_value:\n",
        "    print(\"Reject H0,There is a relationship between 2 categorical variables\")\n",
        "  else:\n",
        "    print(\"Retain H0,There is no relationship between 2 categorical variables\")\n",
        "    \n",
        "  if p_value<=alpha:\n",
        "    print(\"Reject H0,There is a relationship between 2 categorical variables\")\n",
        "  else:print(\"Retain H0,There is no relationship between 2 categorical variables\")\n",
        "  print('*'*50)"
      ],
      "execution_count": null,
      "outputs": [
        {
          "output_type": "stream",
          "text": [
            "Permit Number\n",
            "contingency_table :-\n",
            " Permit Number                           201301027037  ...  M893427\n",
            "Existing Construction Type Description                ...         \n",
            "constr_type_1                                      1  ...        0\n",
            "constr_type_2                                      0  ...        0\n",
            "constr_type_3                                      0  ...        0\n",
            "constr_type_4                                      0  ...        0\n",
            "wood_frame_5                                       0  ...        1\n",
            "\n",
            "[5 rows x 166686 columns]\n",
            "Observed Values :-\n",
            " [[1 0 0 ... 0 0 0]\n",
            " [0 0 0 ... 0 0 0]\n",
            " [0 0 0 ... 0 0 0]\n",
            " [0 0 0 ... 0 0 0]\n",
            " [0 1 1 ... 1 1 1]]\n",
            "Expected Values :-\n",
            " [[0.18509151 0.18509151 0.18509151 ... 0.18509151 0.18509151 0.18509151]\n",
            " [0.0262026  0.0262026  0.0262026  ... 0.0262026  0.0262026  0.0262026 ]\n",
            " [0.06203915 0.06203915 0.06203915 ... 0.06203915 0.06203915 0.06203915]\n",
            " [0.00244689 0.00244689 0.00244689 ... 0.00244689 0.00244689 0.00244689]\n",
            " [0.72421985 0.72421985 0.72421985 ... 0.72421985 0.72421985 0.72421985]]\n",
            "Degree of Freedom:- 1\n",
            "chi-square statistic:- 4.7835290864889926\n",
            "critical_value: 3.841458820694124\n",
            "p-value: 0.028733177811870014\n",
            "Significance level:  0.05\n",
            "Degree of Freedom:  1\n",
            "chi-square statistic: 4.7835290864889926\n",
            "critical_value: 3.841458820694124\n",
            "p-value: 0.028733177811870014\n",
            "Reject H0,There is a relationship between 2 categorical variables\n",
            "Reject H0,There is a relationship between 2 categorical variables\n",
            "**************************************************\n",
            "Permit Type Definition\n",
            "contingency_table :-\n",
            " Permit Type Definition                  additions_alterations_or_repairs  ...  wall_or_painted_sign\n",
            "Existing Construction Type Description                                    ...                      \n",
            "constr_type_1                                                       1374  ...                    70\n",
            "constr_type_2                                                        260  ...                    14\n",
            "constr_type_3                                                        740  ...                    32\n",
            "constr_type_4                                                         15  ...                     1\n",
            "wood_frame_5                                                        7016  ...                   240\n",
            "\n",
            "[5 rows x 8 columns]\n",
            "Observed Values :-\n",
            " [[  1374     37     12    123      1  31130    990     70]\n",
            " [   260     12      0     11      1   4174    304     14]\n",
            " [   740     38      8     38      5  10070    377     32]\n",
            " [    15      2      0      0      0    426      2      1]\n",
            " [  7016    287     58      4    594 123121    685    240]]\n",
            "Expected Values :-\n",
            " [[1.74078567e+03 6.95944084e+01 1.44371379e+01 3.25761060e+01\n",
            "  1.11239998e+02 3.12658432e+04 4.36445784e+02 6.60776696e+01]\n",
            " [2.46435437e+02 9.85217697e+00 2.04380267e+00 4.61165730e+00\n",
            "  1.57477616e+01 4.42616911e+03 6.17857268e+01 9.35432760e+00]\n",
            " [5.83478208e+02 2.33267205e+01 4.83905372e+00 1.09188904e+01\n",
            "  3.72855293e+01 1.04797153e+04 1.46288316e+02 2.21479767e+01]\n",
            " [2.30130245e+01 9.20031601e-01 1.90857619e-01 4.30653090e-01\n",
            "  1.47058243e+00 4.13331537e+02 5.76977265e+00 8.73540643e-01]\n",
            " [6.81128766e+03 2.72306663e+02 5.64891481e+01 1.27462693e+02\n",
            "  4.35256128e+02 1.22335941e+05 1.70771040e+03 2.58546485e+02]]\n",
            "Degree of Freedom:- 1\n",
            "chi-square statistic:- 155.98378797506064\n",
            "critical_value: 3.841458820694124\n",
            "p-value: 0.0\n",
            "Significance level:  0.05\n",
            "Degree of Freedom:  1\n",
            "chi-square statistic: 155.98378797506064\n",
            "critical_value: 3.841458820694124\n",
            "p-value: 0.0\n",
            "Reject H0,There is a relationship between 2 categorical variables\n",
            "Reject H0,There is a relationship between 2 categorical variables\n",
            "**************************************************\n",
            "Block\n",
            "contingency_table :-\n",
            " Block                                   0010  0011  0012  ...  8724  8725  8727\n",
            "Existing Construction Type Description                    ...                  \n",
            "constr_type_1                              1    34     2  ...     4     2     8\n",
            "constr_type_2                              0    29     0  ...     0     0     0\n",
            "constr_type_3                              7    75     6  ...     0     0     0\n",
            "constr_type_4                              0     0     0  ...     0     0     0\n",
            "wood_frame_5                               5    11    37  ...    10     0    11\n",
            "\n",
            "[5 rows x 4864 columns]\n",
            "Observed Values :-\n",
            " [[ 1 34  2 ...  4  2  8]\n",
            " [ 0 29  0 ...  0  0  0]\n",
            " [ 7 75  6 ...  0  0  0]\n",
            " [ 0  0  0 ...  0  0  0]\n",
            " [ 5 11 37 ... 10  0 11]]\n",
            "Expected Values :-\n",
            " [[2.40618965e+00 2.75786352e+01 8.32911802e+00 ... 2.59128116e+00\n",
            "  3.70183023e-01 3.51673872e+00]\n",
            " [3.40633778e-01 3.90418715e+00 1.17911692e+00 ... 3.66836376e-01\n",
            "  5.24051966e-02 4.97849368e-01]\n",
            " [8.06508954e-01 9.24383339e+00 2.79176176e+00 ... 8.68548104e-01\n",
            "  1.24078301e-01 1.17874386e+00]\n",
            " [3.18096032e-02 3.64586991e-01 1.10110165e-01 ... 3.42564958e-02\n",
            "  4.89378511e-03 4.64909586e-02]\n",
            " [9.41485801e+00 1.07908757e+02 3.25898931e+01 ... 1.01390779e+01\n",
            "  1.44843969e+00 1.37601771e+01]]\n",
            "Degree of Freedom:- 1\n",
            "chi-square statistic:- 768.7880107101441\n",
            "critical_value: 3.841458820694124\n",
            "p-value: 0.0\n",
            "Significance level:  0.05\n",
            "Degree of Freedom:  1\n",
            "chi-square statistic: 768.7880107101441\n",
            "critical_value: 3.841458820694124\n",
            "p-value: 0.0\n",
            "Reject H0,There is a relationship between 2 categorical variables\n",
            "Reject H0,There is a relationship between 2 categorical variables\n",
            "**************************************************\n",
            "Lot\n",
            "contingency_table :-\n",
            " Lot                                      001  001A  001B  ...  972  973  974\n",
            "Existing Construction Type Description                    ...               \n",
            "constr_type_1                           2540    65    38  ...   12    1    1\n",
            "constr_type_2                            466    16     7  ...    0    0    0\n",
            "constr_type_3                            902    55    24  ...    2    1    2\n",
            "constr_type_4                             48     6     1  ...    0    0    0\n",
            "wood_frame_5                            4972   613   347  ...    3    0    0\n",
            "\n",
            "[5 rows x 1038 columns]\n",
            "Observed Values :-\n",
            " [[2540   65   38 ...   12    1    1]\n",
            " [ 466   16    7 ...    0    0    0]\n",
            " [ 902   55   24 ...    2    1    2]\n",
            " [  48    6    1 ...    0    0    0]\n",
            " [4972  613  347 ...    3    0    0]]\n",
            "Expected Values :-\n",
            " [[1.65249702e+03 1.39744091e+02 7.71831603e+01 ... 3.14655570e+00\n",
            "  3.70183023e-01 5.55274535e-01]\n",
            " [2.33936798e+02 1.97829617e+01 1.09264835e+01 ... 4.45444171e-01\n",
            "  5.24051966e-02 7.86077949e-02]\n",
            " [5.53885534e+02 4.68395585e+01 2.58703257e+01 ... 1.05466555e+00\n",
            "  1.24078301e-01 1.86117451e-01]\n",
            " [2.18458567e+01 1.84740388e+00 1.02035420e+00 ... 4.15971735e-02\n",
            "  4.89378511e-03 7.34067767e-03]\n",
            " [6.46583480e+03 5.46785985e+02 3.01999676e+02 ... 1.23117374e+01\n",
            "  1.44843969e+00 2.17265954e+00]]\n",
            "Degree of Freedom:- 1\n",
            "chi-square statistic:- 1361.5581317065632\n",
            "critical_value: 3.841458820694124\n",
            "p-value: 0.0\n",
            "Significance level:  0.05\n",
            "Degree of Freedom:  1\n",
            "chi-square statistic: 1361.5581317065632\n",
            "critical_value: 3.841458820694124\n",
            "p-value: 0.0\n",
            "Reject H0,There is a relationship between 2 categorical variables\n",
            "Reject H0,There is a relationship between 2 categorical variables\n",
            "**************************************************\n",
            "Street Name\n",
            "contingency_table :-\n",
            " Street Name                             01st  02nd  03rd  ...  Zircon  Zoe  Zoo\n",
            "Existing Construction Type Description                    ...                  \n",
            "constr_type_1                            219   685   637  ...       0    0    0\n",
            "constr_type_2                             15    37    91  ...       0    0    0\n",
            "constr_type_3                             16    92   152  ...       0    3    7\n",
            "constr_type_4                              0     5     6  ...       0    0    0\n",
            "wood_frame_5                              35   284   758  ...       9    4    3\n",
            "\n",
            "[5 rows x 1686 columns]\n",
            "Observed Values :-\n",
            " [[219 685 637 ...   0   0   0]\n",
            " [ 15  37  91 ...   0   0   0]\n",
            " [ 16  92 152 ...   0   3   7]\n",
            " [  0   5   6 ...   0   0   0]\n",
            " [ 35 284 758 ...   9   4   3]]\n",
            "Expected Values :-\n",
            " [[5.27510808e+01 2.04155937e+02 3.04290445e+02 ... 1.66582360e+00\n",
            "  1.29564058e+00 1.85091512e+00]\n",
            " [7.46774052e+00 2.89014659e+01 4.30770716e+01 ... 2.35823385e-01\n",
            "  1.83418188e-01 2.62025983e-01]\n",
            " [1.76811578e+01 6.84291828e+01 1.01992363e+02 ... 5.58352353e-01\n",
            "  4.34274052e-01 6.20391503e-01]\n",
            " [6.97364379e-01 2.69892249e+00 4.02269136e+00 ... 2.20220330e-02\n",
            "  1.71282479e-02 2.44689256e-02]\n",
            " [2.06402656e+02 7.98814492e+02 1.19061743e+03 ... 6.51797863e+00\n",
            "  5.06953893e+00 7.24219847e+00]]\n",
            "Degree of Freedom:- 1\n",
            "chi-square statistic:- 2151.393948488751\n",
            "critical_value: 3.841458820694124\n",
            "p-value: 0.0\n",
            "Significance level:  0.05\n",
            "Degree of Freedom:  1\n",
            "chi-square statistic: 2151.393948488751\n",
            "critical_value: 3.841458820694124\n",
            "p-value: 0.0\n",
            "Reject H0,There is a relationship between 2 categorical variables\n",
            "Reject H0,There is a relationship between 2 categorical variables\n",
            "**************************************************\n",
            "Street Suffix\n",
            "contingency_table :-\n",
            " Street Suffix                              0  Al     Av  ...    Tr  Wk    Wy\n",
            "Existing Construction Type Description                   ...                \n",
            "constr_type_1                           1116   3   2375  ...    43   0   109\n",
            "constr_type_2                             75   0    817  ...     7   0    43\n",
            "constr_type_3                            177   3   1327  ...    13   0    47\n",
            "constr_type_4                              7   0     73  ...     2   0     7\n",
            "wood_frame_5                            1174  68  35356  ...  1288   8  3126\n",
            "\n",
            "[5 rows x 22 columns]\n",
            "Observed Values :-\n",
            " [[ 1116     3  2375   467     1   123   109     0     6    80     0     5\n",
            "     62   124    14     0     0 29099     1    43     0   109]\n",
            " [   75     0   817    95     2     3    33     0     0    18     0     1\n",
            "     11    53     4     0     0  3614     0     7     0    43]\n",
            " [  177     3  1327   162     2     2    55     0     7    40     0     1\n",
            "     50     9    25     0     0  9388     0    13     0    47]\n",
            " [    7     0    73    14     0     0     3     0     0     0     0     1\n",
            "      1     0     0     0     0   338     0     2     0     7]\n",
            " [ 1174    68 35356  2431    86   513  2873     1   202   196     2   106\n",
            "    341     7   284     5     2 83935     1  1288     8  3126]]\n",
            "Expected Values :-\n",
            " [[4.71798263e+02 1.36967719e+01 7.39403570e+03 5.86555000e+02\n",
            "  1.68433276e+01 1.18643659e+02 5.68786215e+02 1.85091512e-01\n",
            "  3.97946750e+01 6.18205649e+01 3.70183023e-01 2.11004323e+01\n",
            "  8.60675529e+01 3.57226617e+01 6.05249243e+01 9.25457558e-01\n",
            "  3.70183023e-01 2.33907547e+04 3.70183023e-01 2.50428815e+02\n",
            "  1.48073209e+00 6.16724917e+02]\n",
            " [6.67904231e+01 1.93899228e+00 1.04674140e+03 8.30360341e+01\n",
            "  2.38443645e+00 1.67958655e+01 8.05205846e+01 2.62025983e-02\n",
            "  5.63355864e+00 8.75166784e+00 5.24051966e-02 2.98709621e+00\n",
            "  1.21842082e+01 5.05710147e+00 8.56824965e+00 1.31012992e-01\n",
            "  5.24051966e-02 3.31132716e+03 5.24051966e-02 3.54521155e+01\n",
            "  2.09620787e-01 8.73070576e+01]\n",
            " [1.58137794e+02 4.59089712e+00 2.47833998e+03 1.96602067e+02\n",
            "  5.64556268e+00 3.97670953e+01 1.90646309e+02 6.20391503e-02\n",
            "  1.33384173e+01 2.07210762e+01 1.24078301e-01 7.07246313e+00\n",
            "  2.88482049e+01 1.19735560e+01 2.02868021e+01 3.10195751e-01\n",
            "  1.24078301e-01 7.84013558e+03 1.24078301e-01 8.39389703e+01\n",
            "  4.96313202e-01 2.06714449e+02]\n",
            " [6.23712913e+00 1.81070049e-01 9.77484638e+01 7.75420251e+00\n",
            "  2.22667223e-01 1.56845813e+00 7.51930083e+00 2.44689256e-03\n",
            "  5.26081900e-01 8.17262114e-01 4.89378511e-03 2.78945751e-01\n",
            "  1.13780504e+00 4.72250263e-01 8.00133866e-01 1.22344628e-02\n",
            "  4.89378511e-03 3.09223600e+02 4.89378511e-03 3.31064563e+00\n",
            "  1.95751404e-02 8.15304600e+00]\n",
            " [1.84603639e+03 5.35922687e+01 2.89311345e+04 2.29505270e+03\n",
            "  6.59040061e+01 4.64224922e+02 2.22552759e+03 7.24219847e-01\n",
            "  1.55707267e+02 2.41889429e+02 1.44843969e+00 8.25610626e+01\n",
            "  3.36762229e+02 1.39774431e+02 2.36819890e+02 3.62109924e+00\n",
            "  1.44843969e+00 9.15225590e+04 1.44843969e+00 9.79869453e+02\n",
            "  5.79375878e+00 2.41310053e+03]]\n",
            "Degree of Freedom:- 1\n",
            "chi-square statistic:- 1142.5053756482305\n",
            "critical_value: 3.841458820694124\n",
            "p-value: 0.0\n",
            "Significance level:  0.05\n",
            "Degree of Freedom:  1\n",
            "chi-square statistic: 1142.5053756482305\n",
            "critical_value: 3.841458820694124\n",
            "p-value: 0.0\n",
            "Reject H0,There is a relationship between 2 categorical variables\n",
            "Reject H0,There is a relationship between 2 categorical variables\n",
            "**************************************************\n",
            "Description\n",
            "contingency_table :-\n",
            " Description                             \"a\" occupancy facility to be renovated as a continuing restaurant to extg use with modification to extg bar and kitchen and renovation to ext aluminum storefront to gain ada compliance.  ...  ~kf21&~kf21&~encrypt&~kf21&~encrypt&@003k%pa4299interior window signs (decals) \"the civic kitchen cooking school\" for proposed restaurant under pa 2015-0730-2914\n",
            "Existing Construction Type Description                                                                                                                                                                                             ...                                                                                                                                                                   \n",
            "constr_type_1                                                                           0                                                                                                                                          ...                                                  1                                                                                                                \n",
            "constr_type_2                                                                           0                                                                                                                                          ...                                                  0                                                                                                                \n",
            "constr_type_3                                                                           0                                                                                                                                          ...                                                  0                                                                                                                \n",
            "constr_type_4                                                                           0                                                                                                                                          ...                                                  0                                                                                                                \n",
            "wood_frame_5                                                                            1                                                                                                                                          ...                                                  0                                                                                                                \n",
            "\n",
            "[5 rows x 121725 columns]\n",
            "Observed Values :-\n",
            " [[0 0 0 ... 0 1 1]\n",
            " [0 0 0 ... 0 0 0]\n",
            " [0 0 1 ... 0 0 0]\n",
            " [0 0 0 ... 0 0 0]\n",
            " [1 5 0 ... 1 0 0]]\n",
            "Expected Values :-\n",
            " [[1.85091512e-01 9.25457558e-01 1.85091512e-01 ... 1.85091512e-01\n",
            "  1.85091512e-01 1.85091512e-01]\n",
            " [2.62025983e-02 1.31012992e-01 2.62025983e-02 ... 2.62025983e-02\n",
            "  2.62025983e-02 2.62025983e-02]\n",
            " [6.20391503e-02 3.10195751e-01 6.20391503e-02 ... 6.20391503e-02\n",
            "  6.20391503e-02 6.20391503e-02]\n",
            " [2.44689256e-03 1.22344628e-02 2.44689256e-03 ... 2.44689256e-03\n",
            "  2.44689256e-03 2.44689256e-03]\n",
            " [7.24219847e-01 3.62109924e+00 7.24219847e-01 ... 7.24219847e-01\n",
            "  7.24219847e-01 7.24219847e-01]]\n",
            "Degree of Freedom:- 1\n",
            "chi-square statistic:- 2.2847770917768266\n",
            "critical_value: 3.841458820694124\n",
            "p-value: 0.13064891108482146\n",
            "Significance level:  0.05\n",
            "Degree of Freedom:  1\n",
            "chi-square statistic: 2.2847770917768266\n",
            "critical_value: 3.841458820694124\n",
            "p-value: 0.13064891108482146\n",
            "Retain H0,There is no relationship between 2 categorical variables\n",
            "Retain H0,There is no relationship between 2 categorical variables\n",
            "**************************************************\n",
            "Current Status\n",
            "contingency_table :-\n",
            " Current Status                          approved  cancelled  ...  suspend  withdrawn\n",
            "Existing Construction Type Description                       ...                    \n",
            "constr_type_1                                  3        137  ...        6          1\n",
            "constr_type_2                                  0         29  ...        4          0\n",
            "constr_type_3                                  0         63  ...        9          0\n",
            "constr_type_4                                  0          1  ...        0          0\n",
            "wood_frame_5                                   4        959  ...      170          0\n",
            "\n",
            "[5 rows x 10 columns]\n",
            "Observed Values :-\n",
            " [[    3   137 18303    51     0 15193    42     1     6     1]\n",
            " [    0    29  2383    29     0  2316    13     2     4     0]\n",
            " [    0    63  5744    66     0  5395    30     1     9     0]\n",
            " [    0     1   240     3     0   200     2     0     0     0]\n",
            " [    4   959 69622  1215     1 59554   435    45   170     0]]\n",
            "Expected Values :-\n",
            " [[1.29564058e+00 2.20073807e+02 1.78228318e+04 2.52464822e+02\n",
            "  1.85091512e-01 1.52992942e+04 9.66177690e+01 9.06948407e+00\n",
            "  3.49822957e+01 1.85091512e-01]\n",
            " [1.83418188e-01 3.11548894e+01 2.52310060e+03 3.57403441e+01\n",
            "  2.62025983e-02 2.16585437e+03 1.36777563e+01 1.28392732e+00\n",
            "  4.95229108e+00 2.62025983e-02]\n",
            " [4.34274052e-01 7.37645497e+01 5.97387386e+03 8.46214010e+01\n",
            "  6.20391503e-02 5.12803208e+03 3.23844364e+01 3.03991836e+00\n",
            "  1.17253994e+01 6.20391503e-02]\n",
            " [1.71282479e-02 2.90935525e+00 2.35616178e+02 3.33756145e+00\n",
            "  2.44689256e-03 2.02255245e+02 1.27727791e+00 1.19897735e-01\n",
            "  4.62462693e-01 2.44689256e-03]\n",
            " [5.06953893e+00 8.61097398e+02 6.97365775e+04 9.87835872e+02\n",
            "  7.24219847e-01 5.98625641e+04 3.78042760e+02 3.54867725e+01\n",
            "  1.36877551e+02 7.24219847e-01]]\n",
            "Degree of Freedom:- 1\n",
            "chi-square statistic:- 48.56536431512322\n",
            "critical_value: 3.841458820694124\n",
            "p-value: 3.194666753358888e-12\n",
            "Significance level:  0.05\n",
            "Degree of Freedom:  1\n",
            "chi-square statistic: 48.56536431512322\n",
            "critical_value: 3.841458820694124\n",
            "p-value: 3.194666753358888e-12\n",
            "Reject H0,There is a relationship between 2 categorical variables\n",
            "Reject H0,There is a relationship between 2 categorical variables\n",
            "**************************************************\n",
            "Existing Use\n",
            "contingency_table :-\n",
            " Existing Use                            1_family_dwelling  ...  workshop_residential\n",
            "Existing Construction Type Description                     ...                      \n",
            "constr_type_1                                          94  ...                     0\n",
            "constr_type_2                                          48  ...                     0\n",
            "constr_type_3                                         108  ...                     0\n",
            "constr_type_4                                          39  ...                     0\n",
            "wood_frame_5                                        55192  ...                     8\n",
            "\n",
            "[5 rows x 94 columns]\n",
            "Observed Values :-\n",
            " [[   94    59     0     1     0     3     9    27  4872    32    11    22\n",
            "     25     1     0     0     2     0     1    26   279     9     7     1\n",
            "      6     4     4     1    10     0     5     2    20  1362     1     0\n",
            "     98    19     6     0   141    15    72     6     0    93     0     8\n",
            "     34     2    91    18     0     0     3     0     2 21647     0     0\n",
            "     15    19    11    12    11   131     3   101     0     6    26    40\n",
            "   2197     0   258     1    11     2     2     5     5     4     2     0\n",
            "      0   108   966     5   505     3    96    10    31     0]\n",
            " [   48    20     0     1     0     0     2    17   805    67    56    48\n",
            "      7     0     2     0     0     0     0    22    60     3     0     0\n",
            "      1     1     0     1     8     0     0     1   112   298     2     4\n",
            "     25     3     0     0    32     3    70     5     0     3     0     9\n",
            "     11     0    40     0     0     0     2     1     0  1493     0     0\n",
            "      2     1    73     5     8    40     0    17     0    34    19    22\n",
            "    737     0   105     3    36     0     0     0     0     2     1     0\n",
            "      0    37   118     6    59    19   131     0    18     0]\n",
            " [  108    83     0     6     0     1    32    18  2397   100   153    19\n",
            "     21     1     2     5     0     0     0   130    63    63     1     0\n",
            "      1     4     4     0     9     2     6     1    11   966    24     6\n",
            "     56     3     0     7    45    27   234    19     4    22     1     3\n",
            "      0     0    27    30     0     5     1     0     7  3133     0     1\n",
            "      9    12     7    25    16    27     1    27     0     3    56   348\n",
            "   1487     1   177     0    25     0    35    17     0     7     1     3\n",
            "      0    50   418     0   149    46   396    15    88     0]\n",
            " [   39    10     0     0     0     0     0     1   112     9     2     0\n",
            "      0     0     0     0     0     0     0     0     0     4     1     0\n",
            "      0     0     0     0     0     0     0     0     0    18     0     0\n",
            "      0     0     0     0     0     0    19     0     0     0     0     9\n",
            "      0     0     0     0     0     0     0     0     0   118     0     0\n",
            "      0     0     0     0     1     2     0     0     0     0     4    25\n",
            "     40     0     1     0     0     0     0     0     0     0     0     0\n",
            "      0     1    13     0     5     0     9     0     3     0]\n",
            " [55192 24476     5     0     3     5    18    48 37974   302   156    13\n",
            "    196     2     5     7     4     4    14   380   265    50     7     0\n",
            "     17    37    19     3    36     8    52    11    97  2990     5    20\n",
            "    114    10     0    84   173     4   164    65     1    32    14     6\n",
            "      2     6     3    41     2     5     4     4     3  2272     1     4\n",
            "     56     8     0    30   145    35     7    80     3     6   125   726\n",
            "   2981     0   267     1    36     3    16     4     1    97     4     2\n",
            "      2    30   369     5  1073    44   311     5    90     8]]\n",
            "Expected Values :-\n",
            " [[1.02690622e+04 4.56213558e+03 9.25457558e-01 1.48073209e+00\n",
            "  5.55274535e-01 1.66582360e+00 1.12905822e+01 2.05451578e+01\n",
            "  8.54382417e+03 9.43966709e+01 6.99645914e+01 1.88793342e+01\n",
            "  4.60877864e+01 7.40366046e-01 1.66582360e+00 2.22109814e+00\n",
            "  1.11054907e+00 7.40366046e-01 2.77637267e+00 1.03281063e+02\n",
            "  1.23456038e+02 2.38768050e+01 2.96146419e+00 1.85091512e-01\n",
            "  4.62728779e+00 8.51420953e+00 4.99747081e+00 9.25457558e-01\n",
            "  1.16607652e+01 1.85091512e+00 1.16607652e+01 2.77637267e+00\n",
            "  4.44219628e+01 1.04280558e+03 5.92292837e+00 5.55274535e+00\n",
            "  5.42318129e+01 6.47820291e+00 1.11054907e+00 1.68433276e+01\n",
            "  7.23707810e+01 9.06948407e+00 1.03466155e+02 1.75836936e+01\n",
            "  9.25457558e-01 2.77637267e+01 2.77637267e+00 6.47820291e+00\n",
            "  8.69930104e+00 1.48073209e+00 2.97997334e+01 1.64731445e+01\n",
            "  3.70183023e-01 1.85091512e+00 1.85091512e+00 9.25457558e-01\n",
            "  2.22109814e+00 5.30527800e+03 1.85091512e-01 9.25457558e-01\n",
            "  1.51775040e+01 7.40366046e+00 1.68433276e+01 1.33265888e+01\n",
            "  3.35015636e+01 4.34965052e+01 2.03600663e+00 4.16455901e+01\n",
            "  5.55274535e-01 9.06948407e+00 4.25710477e+01 2.14891245e+02\n",
            "  1.37745103e+03 1.85091512e-01 1.49553941e+02 9.25457558e-01\n",
            "  1.99898833e+01 9.25457558e-01 9.80985011e+00 4.81237930e+00\n",
            "  1.11054907e+00 2.03600663e+01 1.48073209e+00 9.25457558e-01\n",
            "  3.70183023e-01 4.18306816e+01 3.48712408e+02 2.96146419e+00\n",
            "  3.31498897e+02 2.07302493e+01 1.74541295e+02 5.55274535e+00\n",
            "  4.25710477e+01 1.48073209e+00]\n",
            " [1.45374636e+03 6.45841643e+02 1.31012992e-01 2.09620787e-01\n",
            "  7.86077949e-02 2.35823385e-01 1.59835850e+00 2.90848841e+00\n",
            "  1.20951194e+03 1.33633251e+01 9.90458216e+00 2.67266503e+00\n",
            "  6.52444698e+00 1.04810393e-01 2.35823385e-01 3.14431180e-01\n",
            "  1.57215590e-01 1.04810393e-01 3.93038975e-01 1.46210499e+01\n",
            "  1.74771331e+01 3.38013518e+00 4.19241573e-01 2.62025983e-02\n",
            "  6.55064958e-01 1.20531952e+00 7.07470154e-01 1.31012992e-01\n",
            "  1.65076369e+00 2.62025983e-01 1.65076369e+00 3.93038975e-01\n",
            "  6.28862360e+00 1.47625439e+02 8.38483146e-01 7.86077949e-01\n",
            "  7.67736131e+00 9.17090941e-01 1.57215590e-01 2.38443645e+00\n",
            "  1.02452159e+01 1.28392732e+00 1.46472525e+01 2.48924684e+00\n",
            "  1.31012992e-01 3.93038975e+00 3.93038975e-01 9.17090941e-01\n",
            "  1.23152212e+00 2.09620787e-01 4.21861833e+00 2.33203125e+00\n",
            "  5.24051966e-02 2.62025983e-01 2.62025983e-01 1.31012992e-01\n",
            "  3.14431180e-01 7.51045075e+02 2.62025983e-02 1.31012992e-01\n",
            "  2.14861306e+00 1.04810393e+00 2.38443645e+00 1.88658708e+00\n",
            "  4.74267029e+00 6.15761060e+00 2.88228581e-01 5.89558462e+00\n",
            "  7.86077949e-02 1.28392732e+00 6.02659761e+00 3.04212166e+01\n",
            "  1.94999737e+02 2.62025983e-02 2.11716994e+01 1.31012992e-01\n",
            "  2.82988062e+00 1.31012992e-01 1.38873771e+00 6.81267556e-01\n",
            "  1.57215590e-01 2.88228581e+00 2.09620787e-01 1.31012992e-01\n",
            "  5.24051966e-02 5.92178722e+00 4.93656952e+01 4.19241573e-01\n",
            "  4.69288536e+01 2.93469101e+00 2.47090502e+01 7.86077949e-01\n",
            "  6.02659761e+00 2.09620787e-01]\n",
            " [3.44199410e+03 1.52914098e+03 3.10195751e-01 4.96313202e-01\n",
            "  1.86117451e-01 5.58352353e-01 3.78438817e+00 6.88634568e+00\n",
            "  2.86372718e+03 3.16399666e+01 2.34507988e+01 6.32799333e+00\n",
            "  1.54477484e+01 2.48156601e-01 5.58352353e-01 7.44469803e-01\n",
            "  3.72234902e-01 2.48156601e-01 9.30587254e-01 3.46178459e+01\n",
            "  4.13801132e+01 8.00305039e+00 9.92626404e-01 6.20391503e-02\n",
            "  1.55097876e+00 2.85380091e+00 1.67505706e+00 3.10195751e-01\n",
            "  3.90846647e+00 6.20391503e-01 3.90846647e+00 9.30587254e-01\n",
            "  1.48893961e+01 3.49528573e+02 1.98525281e+00 1.86117451e+00\n",
            "  1.81774710e+01 2.17137026e+00 3.72234902e-01 5.64556268e+00\n",
            "  2.42573078e+01 3.03991836e+00 3.46798850e+01 5.89371928e+00\n",
            "  3.10195751e-01 9.30587254e+00 9.30587254e-01 2.17137026e+00\n",
            "  2.91584006e+00 4.96313202e-01 9.98830320e+00 5.52148438e+00\n",
            "  1.24078301e-01 6.20391503e-01 6.20391503e-01 3.10195751e-01\n",
            "  7.44469803e-01 1.77822816e+03 6.20391503e-02 3.10195751e-01\n",
            "  5.08721032e+00 2.48156601e+00 5.64556268e+00 4.46681882e+00\n",
            "  1.12290862e+01 1.45792003e+01 6.82430653e-01 1.39588088e+01\n",
            "  1.86117451e-01 3.03991836e+00 1.42690046e+01 7.20274535e+01\n",
            "  4.61695356e+02 6.20391503e-02 5.01276334e+01 3.10195751e-01\n",
            "  6.70022823e+00 3.10195751e-01 3.28807496e+00 1.61301791e+00\n",
            "  3.72234902e-01 6.82430653e+00 4.96313202e-01 3.10195751e-01\n",
            "  1.24078301e-01 1.40208480e+01 1.16881759e+02 9.92626404e-01\n",
            "  1.11112118e+02 6.94838483e+00 5.85029187e+01 1.86117451e+00\n",
            "  1.42690046e+01 4.96313202e-01]\n",
            " [1.35756046e+02 6.03110077e+01 1.22344628e-02 1.95751404e-02\n",
            "  7.34067767e-03 2.20220330e-02 1.49260446e-01 2.71605074e-01\n",
            "  1.12948560e+02 1.24791520e+00 9.24925386e-01 2.49583041e-01\n",
            "  6.09276246e-01 9.78757022e-03 2.20220330e-02 2.93627107e-02\n",
            "  1.46813553e-02 9.78757022e-03 3.67033883e-02 1.36536605e+00\n",
            "  1.63207733e+00 3.15649140e-01 3.91502809e-02 2.44689256e-03\n",
            "  6.11723139e-02 1.12557058e-01 6.60660990e-02 1.22344628e-02\n",
            "  1.54154231e-01 2.44689256e-02 1.54154231e-01 3.67033883e-02\n",
            "  5.87254213e-01 1.37857927e+01 7.83005618e-02 7.34067767e-02\n",
            "  7.16939519e-01 8.56412395e-02 1.46813553e-02 2.22667223e-01\n",
            "  9.56734989e-01 1.19897735e-01 1.36781294e+00 2.32454793e-01\n",
            "  1.22344628e-02 3.67033883e-01 3.67033883e-02 8.56412395e-02\n",
            "  1.15003950e-01 1.95751404e-02 3.93949702e-01 2.17773438e-01\n",
            "  4.89378511e-03 2.44689256e-02 2.44689256e-02 1.22344628e-02\n",
            "  2.93627107e-02 7.01352813e+01 2.44689256e-03 1.22344628e-02\n",
            "  2.00645190e-01 9.78757022e-02 2.22667223e-01 1.76176264e-01\n",
            "  4.42887553e-01 5.75019751e-01 2.69158181e-02 5.50550825e-01\n",
            "  7.34067767e-03 1.19897735e-01 5.62785288e-01 2.84084226e+00\n",
            "  1.82097744e+01 2.44689256e-03 1.97708919e+00 1.22344628e-02\n",
            "  2.64264396e-01 1.22344628e-02 1.29685305e-01 6.36192065e-02\n",
            "  1.46813553e-02 2.69158181e-01 1.95751404e-02 1.22344628e-02\n",
            "  4.89378511e-03 5.52997718e-01 4.60994558e+00 3.91502809e-02\n",
            "  4.38238457e+00 2.74051966e-01 2.30741968e+00 7.34067767e-02\n",
            "  5.62785288e-01 1.95751404e-02]\n",
            " [4.01804413e+04 1.78505708e+04 3.62109924e+00 5.79375878e+00\n",
            "  2.17265954e+00 6.51797863e+00 4.41774107e+01 8.03884030e+01\n",
            "  3.34299881e+04 3.69352122e+02 2.73755102e+02 7.38704244e+01\n",
            "  1.80330742e+02 2.89687939e+00 6.51797863e+00 8.69063817e+00\n",
            "  4.34531908e+00 2.89687939e+00 1.08632977e+01 4.04114675e+02\n",
            "  4.83054638e+02 9.34243603e+01 1.15875176e+01 7.24219847e-01\n",
            "  1.81054962e+01 3.33141130e+01 1.95539359e+01 3.62109924e+00\n",
            "  4.56258504e+01 7.24219847e+00 4.56258504e+01 1.08632977e+01\n",
            "  1.73812763e+02 4.08025462e+03 2.31750351e+01 2.17265954e+01\n",
            "  2.12196415e+02 2.53476947e+01 4.34531908e+00 6.59040061e+01\n",
            "  2.83169960e+02 3.54867725e+01 4.04838895e+02 6.88008855e+01\n",
            "  3.62109924e+00 1.08632977e+02 1.08632977e+01 2.53476947e+01\n",
            "  3.40383328e+01 5.79375878e+00 1.16599395e+02 6.44555664e+01\n",
            "  1.44843969e+00 7.24219847e+00 7.24219847e+00 3.62109924e+00\n",
            "  8.69063817e+00 2.07583135e+04 7.24219847e-01 3.62109924e+00\n",
            "  5.93860275e+01 2.89687939e+01 6.59040061e+01 5.21438290e+01\n",
            "  1.31083792e+02 1.70191664e+02 7.96641832e+00 1.62949466e+02\n",
            "  2.17265954e+00 3.54867725e+01 1.66570565e+02 8.40819243e+02\n",
            "  5.38964410e+03 7.24219847e-01 5.85169637e+02 3.62109924e+00\n",
            "  7.82157435e+01 3.62109924e+00 3.83836519e+01 1.88297160e+01\n",
            "  4.34531908e+00 7.96641832e+01 5.79375878e+00 3.62109924e+00\n",
            "  1.44843969e+00 1.63673685e+02 1.36443019e+03 1.15875176e+01\n",
            "  1.29707775e+03 8.11126229e+01 6.82939316e+02 2.17265954e+01\n",
            "  1.66570565e+02 5.79375878e+00]]\n",
            "Degree of Freedom:- 1\n",
            "chi-square statistic:- 29268.042702941675\n",
            "critical_value: 3.841458820694124\n",
            "p-value: 0.0\n",
            "Significance level:  0.05\n",
            "Degree of Freedom:  1\n",
            "chi-square statistic: 29268.042702941675\n",
            "critical_value: 3.841458820694124\n",
            "p-value: 0.0\n",
            "Reject H0,There is a relationship between 2 categorical variables\n",
            "Reject H0,There is a relationship between 2 categorical variables\n",
            "**************************************************\n",
            "Proposed Use\n",
            "contingency_table :-\n",
            " Proposed Use                            1_family_dwelling  ...  workshop_residential\n",
            "Existing Construction Type Description                     ...                      \n",
            "constr_type_1                                          92  ...                     0\n",
            "constr_type_2                                          49  ...                     0\n",
            "constr_type_3                                         101  ...                     0\n",
            "constr_type_4                                          40  ...                     0\n",
            "wood_frame_5                                        54794  ...                    10\n",
            "\n",
            "[5 rows x 94 columns]\n",
            "Observed Values :-\n",
            " [[   92    60     0     0     0     3    12    26  5130    32    11    22\n",
            "     43     1     0     0     2     0     1    26   305     9     7     1\n",
            "      6     6    13     0    10     0     4     2    20  1538     1     0\n",
            "    153    19     6     1   133    15    70    10     0    95     0     8\n",
            "     34     2    91    19     0     0     3     0     2 21609     0     0\n",
            "     15    19    11     7    11   129     9   108     0     6    26    41\n",
            "   2078     0   264     1    11     2     2    10     5     3     2     0\n",
            "      0   113   988     6    87     3    86    11    30     0]\n",
            " [   49    19     0     1     0     1     3    17   817    66    55    49\n",
            "      7     0     2     0     0     0     0    22    75     3     0     0\n",
            "      1     5     0     1     9     0     0     1   111   329     0     9\n",
            "     38     3     0     0    31     3    61     5     0     3     0     9\n",
            "     13     0    42     0     0     0     2     1     0  1468     0     0\n",
            "      2     1    83     3     6    40     0    18     0    34    21    22\n",
            "    708     0   122     3    38     0     0     0     0     2     1     0\n",
            "      0    37   118     6    17    19   126     0    18     0]\n",
            " [  101   119     0     6     0     1    33    18  2504   101   129    19\n",
            "     28     1     1     5     0     0     0   131    72    66     1     0\n",
            "      2     4     3     0    16     2     2     1    11  1110    14    23\n",
            "     71     4     0     4    47    27   220    28     1    24     1     2\n",
            "      0     0    38    31     0     9     1     0     7  3103     0     1\n",
            "      8    12     7    14     6    25     3    31     0     3    60   347\n",
            "   1371     1   180     2    24     0    36    22     0     7     1     3\n",
            "      0    49   419     0    26    33   324    21   130     0]\n",
            " [   40    10     0     0     0     0     0     1   115     9     2     0\n",
            "      0     0     0     0     0     0     0     0     0     2     1     0\n",
            "      0     0     0     0     0     0     0     0     0    18     0     0\n",
            "      0     0     0     0     0     0    19     1     0     0     0     9\n",
            "      0     0     0     0     0     0     0     0     0   118     0     0\n",
            "      0     0     0     0     1     2     0     0     0     0     4    25\n",
            "     38     0     1     0     0     0     0     0     0     0     0     0\n",
            "      0     1    15     0     1     0     9     0     4     0]\n",
            " [54794 24924     6     1     3     5    21    52 38756   297   143    15\n",
            "    243     2     3     7     4    24    16   359   342    52     7     0\n",
            "     14    47    26     9    55    12    42    18    92  3280     4    37\n",
            "    161    12     0    59   169     4   161    74     1    32    11     5\n",
            "      3     6     4    40     2    14     4     3     2  2206     1     5\n",
            "     49     8     0    21   106    31    11    98     3     6   137   715\n",
            "   2545     0   308     1    36     3    17     4     1    90     4     3\n",
            "      2    20   364     5   303    33   278    13    89    10]]\n",
            "Expected Values :-\n",
            " [[1.01941001e+04 4.65171987e+03 1.11054907e+00 1.48073209e+00\n",
            "  5.55274535e-01 1.85091512e+00 1.27713143e+01 2.11004323e+01\n",
            "  8.75890051e+03 9.34712134e+01 6.29311139e+01 1.94346087e+01\n",
            "  5.94143752e+01 7.40366046e-01 1.11054907e+00 2.22109814e+00\n",
            "  1.11054907e+00 4.44219628e+00 3.14655570e+00 9.95792332e+01\n",
            "  1.46962660e+02 2.44320795e+01 2.96146419e+00 1.85091512e-01\n",
            "  4.25710477e+00 1.14756737e+01 7.77384349e+00 1.85091512e+00\n",
            "  1.66582360e+01 2.59128116e+00 8.88439256e+00 4.07201325e+00\n",
            "  4.33114137e+01 1.16144924e+03 3.51673872e+00 1.27713143e+01\n",
            "  7.82937094e+01 7.03347744e+00 1.11054907e+00 1.18458567e+01\n",
            "  7.03347744e+01 9.06948407e+00 9.82835927e+01 2.18407984e+01\n",
            "  3.70183023e-01 2.85040928e+01 2.22109814e+00 6.10801988e+00\n",
            "  9.25457558e+00 1.48073209e+00 3.23910145e+01 1.66582360e+01\n",
            "  3.70183023e-01 4.25710477e+00 1.85091512e+00 7.40366046e-01\n",
            "  2.03600663e+00 5.27584845e+03 1.85091512e-01 1.11054907e+00\n",
            "  1.36967719e+01 7.40366046e+00 1.86942427e+01 8.32911802e+00\n",
            "  2.40618965e+01 4.20157731e+01 4.25710477e+00 4.71983355e+01\n",
            "  5.55274535e-01 9.06948407e+00 4.59026949e+01 2.12855238e+02\n",
            "  1.24751679e+03 1.85091512e-01 1.61955073e+02 1.29564058e+00\n",
            "  2.01749748e+01 9.25457558e-01 1.01800331e+01 6.66329442e+00\n",
            "  1.11054907e+00 1.88793342e+01 1.48073209e+00 1.11054907e+00\n",
            "  3.70183023e-01 4.07201325e+01 3.52414238e+02 3.14655570e+00\n",
            "  8.03297160e+01 1.62880530e+01 1.52330314e+02 8.32911802e+00\n",
            "  5.01597996e+01 1.85091512e+00]\n",
            " [1.44313430e+03 6.58523701e+02 1.57215590e-01 2.09620787e-01\n",
            "  7.86077949e-02 2.62025983e-01 1.80797928e+00 2.98709621e+00\n",
            "  1.23995936e+03 1.32323121e+01 8.90888343e+00 2.75127282e+00\n",
            "  8.41103406e+00 1.04810393e-01 1.57215590e-01 3.14431180e-01\n",
            "  1.57215590e-01 6.28862360e-01 4.45444171e-01 1.40969979e+01\n",
            "  2.08048631e+01 3.45874298e+00 4.19241573e-01 2.62025983e-02\n",
            "  6.02659761e-01 1.62456110e+00 1.10050913e+00 2.62025983e-01\n",
            "  2.35823385e+00 3.66836376e-01 1.25772472e+00 5.76457163e-01\n",
            "  6.13140801e+00 1.64421304e+02 4.97849368e-01 1.80797928e+00\n",
            "  1.10836991e+01 9.95698736e-01 1.57215590e-01 1.67696629e+00\n",
            "  9.95698736e+00 1.28392732e+00 1.39135797e+01 3.09190660e+00\n",
            "  5.24051966e-02 4.03520014e+00 3.14431180e-01 8.64685744e-01\n",
            "  1.31012992e+00 2.09620787e-01 4.58545471e+00 2.35823385e+00\n",
            "  5.24051966e-02 6.02659761e-01 2.62025983e-01 1.04810393e-01\n",
            "  2.88228581e-01 7.46878862e+02 2.62025983e-02 1.57215590e-01\n",
            "  1.93899228e+00 1.04810393e+00 2.64646243e+00 1.17911692e+00\n",
            "  3.40633778e+00 5.94798982e+00 6.02659761e-01 6.68166257e+00\n",
            "  7.86077949e-02 1.28392732e+00 6.49824438e+00 3.01329881e+01\n",
            "  1.76605513e+02 2.62025983e-02 2.29272735e+01 1.83418188e-01\n",
            "  2.85608322e+00 1.31012992e-01 1.44114291e+00 9.43293539e-01\n",
            "  1.57215590e-01 2.67266503e+00 2.09620787e-01 1.57215590e-01\n",
            "  5.24051966e-02 5.76457163e+00 4.98897472e+01 4.45444171e-01\n",
            "  1.13719277e+01 2.30582865e+00 2.15647384e+01 1.17911692e+00\n",
            "  7.10090414e+00 2.62025983e-01]\n",
            " [3.41686824e+03 1.55916792e+03 3.72234902e-01 4.96313202e-01\n",
            "  1.86117451e-01 6.20391503e-01 4.28070137e+00 7.07246313e+00\n",
            "  2.93581667e+03 3.13297709e+01 2.10933111e+01 6.51411078e+00\n",
            "  1.99145672e+01 2.48156601e-01 3.72234902e-01 7.44469803e-01\n",
            "  3.72234902e-01 1.48893961e+00 1.05466555e+00 3.33770629e+01\n",
            "  4.92590853e+01 8.18916784e+00 9.92626404e-01 6.20391503e-02\n",
            "  1.42690046e+00 3.84642732e+00 2.60564431e+00 6.20391503e-01\n",
            "  5.58352353e+00 8.68548104e-01 2.97787921e+00 1.36486131e+00\n",
            "  1.45171612e+01 3.89295668e+02 1.17874386e+00 4.28070137e+00\n",
            "  2.62425606e+01 2.35748771e+00 3.72234902e-01 3.97050562e+00\n",
            "  2.35748771e+01 3.03991836e+00 3.29427888e+01 7.32061973e+00\n",
            "  1.24078301e-01 9.55402914e+00 7.44469803e-01 2.04729196e+00\n",
            "  3.10195751e+00 4.96313202e-01 1.08568513e+01 5.58352353e+00\n",
            "  1.24078301e-01 1.42690046e+00 6.20391503e-01 2.48156601e-01\n",
            "  6.82430653e-01 1.76836394e+03 6.20391503e-02 3.72234902e-01\n",
            "  4.59089712e+00 2.48156601e+00 6.26595418e+00 2.79176176e+00\n",
            "  8.06508954e+00 1.40828871e+01 1.42690046e+00 1.58199833e+01\n",
            "  1.86117451e-01 3.03991836e+00 1.53857093e+01 7.13450228e+01\n",
            "  4.18143873e+02 6.20391503e-02 5.42842565e+01 4.34274052e-01\n",
            "  6.76226738e+00 3.10195751e-01 3.41215327e+00 2.23340941e+00\n",
            "  3.72234902e-01 6.32799333e+00 4.96313202e-01 3.72234902e-01\n",
            "  1.24078301e-01 1.36486131e+01 1.18122542e+02 1.05466555e+00\n",
            "  2.69249912e+01 5.45944522e+00 5.10582207e+01 2.79176176e+00\n",
            "  1.68126097e+01 6.20391503e-01]\n",
            " [1.34765054e+02 6.14953037e+01 1.46813553e-02 1.95751404e-02\n",
            "  7.34067767e-03 2.44689256e-02 1.68835586e-01 2.78945751e-01\n",
            "  1.15791850e+02 1.23568074e+00 8.31943469e-01 2.56923718e-01\n",
            "  7.85452511e-01 9.78757022e-03 1.46813553e-02 2.93627107e-02\n",
            "  1.46813553e-02 5.87254213e-02 4.15971735e-02 1.31642820e+00\n",
            "  1.94283269e+00 3.22989817e-01 3.91502809e-02 2.44689256e-03\n",
            "  5.62785288e-02 1.51707338e-01 1.02769487e-01 2.44689256e-02\n",
            "  2.20220330e-01 3.42564958e-02 1.17450843e-01 5.38316362e-02\n",
            "  5.72572858e-01 1.53542508e+01 4.64909586e-02 1.68835586e-01\n",
            "  1.03503555e+00 9.29819171e-02 1.46813553e-02 1.56601124e-01\n",
            "  9.29819171e-01 1.19897735e-01 1.29929995e+00 2.88733322e-01\n",
            "  4.89378511e-03 3.76821454e-01 2.93627107e-02 8.07474544e-02\n",
            "  1.22344628e-01 1.95751404e-02 4.28206197e-01 2.20220330e-01\n",
            "  4.89378511e-03 5.62785288e-02 2.44689256e-02 9.78757022e-03\n",
            "  2.69158181e-02 6.97462254e+01 2.44689256e-03 1.46813553e-02\n",
            "  1.81070049e-01 9.78757022e-02 2.47136148e-01 1.10110165e-01\n",
            "  3.18096032e-01 5.55444610e-01 5.62785288e-02 6.23957602e-01\n",
            "  7.34067767e-03 1.19897735e-01 6.06829354e-01 2.81392644e+00\n",
            "  1.64920558e+01 2.44689256e-03 2.14103099e+00 1.71282479e-02\n",
            "  2.66711289e-01 1.22344628e-02 1.34579091e-01 8.80881320e-02\n",
            "  1.46813553e-02 2.49583041e-01 1.95751404e-02 1.46813553e-02\n",
            "  4.89378511e-03 5.38316362e-01 4.65888343e+00 4.15971735e-02\n",
            "  1.06195137e+00 2.15326545e-01 2.01379257e+00 1.10110165e-01\n",
            "  6.63107883e-01 2.44689256e-02]\n",
            " [3.98871323e+04 1.82010932e+04 4.34531908e+00 5.79375878e+00\n",
            "  2.17265954e+00 7.24219847e+00 4.99711695e+01 8.25610626e+01\n",
            "  3.42715316e+04 3.65731023e+02 2.46234748e+02 7.60430840e+01\n",
            "  2.32474571e+02 2.89687939e+00 4.34531908e+00 8.69063817e+00\n",
            "  4.34531908e+00 1.73812763e+01 1.23117374e+01 3.89630278e+02\n",
            "  5.75030559e+02 9.55970198e+01 1.15875176e+01 7.24219847e-01\n",
            "  1.66570565e+01 4.49016305e+01 3.04172336e+01 7.24219847e+00\n",
            "  6.51797863e+01 1.01390779e+01 3.47625527e+01 1.59328366e+01\n",
            "  1.69467444e+02 4.54447954e+03 1.37601771e+01 4.99711695e+01\n",
            "  3.06344995e+02 2.75203542e+01 4.34531908e+00 4.63500702e+01\n",
            "  2.75203542e+02 3.54867725e+01 3.84560739e+02 8.54579420e+01\n",
            "  1.44843969e+00 1.11529856e+02 8.69063817e+00 2.38992550e+01\n",
            "  3.62109924e+01 5.79375878e+00 1.26738473e+02 6.51797863e+01\n",
            "  1.44843969e+00 1.66570565e+01 7.24219847e+00 2.89687939e+00\n",
            "  7.96641832e+00 2.06431625e+04 7.24219847e-01 4.34531908e+00\n",
            "  5.35922687e+01 2.89687939e+01 7.31462046e+01 3.25898931e+01\n",
            "  9.41485801e+01 1.64397905e+02 1.66570565e+01 1.84676061e+02\n",
            "  2.17265954e+00 3.54867725e+01 1.79606522e+02 8.32852824e+02\n",
            "  4.88124177e+03 7.24219847e-01 6.33692366e+02 5.06953893e+00\n",
            "  7.89399634e+01 3.62109924e+00 3.98320916e+01 2.60719145e+01\n",
            "  4.34531908e+00 7.38704244e+01 5.79375878e+00 4.34531908e+00\n",
            "  1.44843969e+00 1.59328366e+02 1.37891459e+03 1.23117374e+01\n",
            "  3.14311414e+02 6.37313466e+01 5.96032934e+02 3.25898931e+01\n",
            "  1.96263579e+02 7.24219847e+00]]\n",
            "Degree of Freedom:- 1\n",
            "chi-square statistic:- 29223.473302881503\n",
            "critical_value: 3.841458820694124\n",
            "p-value: 0.0\n",
            "Significance level:  0.05\n",
            "Degree of Freedom:  1\n",
            "chi-square statistic: 29223.473302881503\n",
            "critical_value: 3.841458820694124\n",
            "p-value: 0.0\n",
            "Reject H0,There is a relationship between 2 categorical variables\n",
            "Reject H0,There is a relationship between 2 categorical variables\n",
            "**************************************************\n",
            "Existing Construction Type Description\n",
            "contingency_table :-\n",
            " Existing Construction Type Description  constr_type_1  ...  wood_frame_5\n",
            "Existing Construction Type Description                 ...              \n",
            "constr_type_1                                   33737  ...             0\n",
            "constr_type_2                                       0  ...             0\n",
            "constr_type_3                                       0  ...             0\n",
            "constr_type_4                                       0  ...             0\n",
            "wood_frame_5                                        0  ...        132005\n",
            "\n",
            "[5 rows x 5 columns]\n",
            "Observed Values :-\n",
            " [[ 33737      0      0      0      0]\n",
            " [     0   4776      0      0      0]\n",
            " [     0      0  11308      0      0]\n",
            " [     0      0      0    446      0]\n",
            " [     0      0      0      0 132005]]\n",
            "Expected Values :-\n",
            " [[6.24443233e+03 8.83997059e+02 2.09301481e+03 8.25508142e+01\n",
            "  2.44330050e+04]\n",
            " [8.83997059e+02 1.25143610e+02 2.96298982e+02 1.16863588e+01\n",
            "  3.45887399e+03]\n",
            " [2.09301481e+03 2.96298982e+02 7.01538711e+02 2.76694610e+01\n",
            "  8.18947803e+03]\n",
            " [8.25508142e+01 1.16863588e+01 2.76694610e+01 1.09131408e+00\n",
            "  3.23002052e+02]\n",
            " [2.44330050e+04 3.45887399e+03 8.18947803e+03 3.23002052e+02\n",
            "  9.56006409e+04]]\n",
            "Degree of Freedom:- 1\n",
            "chi-square statistic:- 326031.0\n",
            "critical_value: 3.841458820694124\n",
            "p-value: 0.0\n",
            "Significance level:  0.05\n",
            "Degree of Freedom:  1\n",
            "chi-square statistic: 326031.0\n",
            "critical_value: 3.841458820694124\n",
            "p-value: 0.0\n",
            "Reject H0,There is a relationship between 2 categorical variables\n",
            "Reject H0,There is a relationship between 2 categorical variables\n",
            "**************************************************\n",
            "Proposed Construction Type Description\n",
            "contingency_table :-\n",
            " Proposed Construction Type Description  constr_type_1  ...  wood_frame_5\n",
            "Existing Construction Type Description                 ...              \n",
            "constr_type_1                                   33722  ...             4\n",
            "constr_type_2                                       1  ...             2\n",
            "constr_type_3                                      11  ...            15\n",
            "constr_type_4                                       0  ...             3\n",
            "wood_frame_5                                       13  ...        131953\n",
            "\n",
            "[5 rows x 5 columns]\n",
            "Observed Values :-\n",
            " [[ 33722      1     10      0      4]\n",
            " [     1   4771      2      0      2]\n",
            " [    11      0  11282      0     15]\n",
            " [     0      0      0    443      3]\n",
            " [    13      8     22      9 131953]]\n",
            "Expected Values :-\n",
            " [[6.24628324e+03 8.84737425e+02 2.09449555e+03 8.36613632e+01\n",
            "  2.44278224e+04]\n",
            " [8.84259085e+02 1.25248420e+02 2.96508603e+02 1.18435744e+01\n",
            "  3.45814032e+03]\n",
            " [2.09363520e+03 2.96547138e+02 7.02035025e+02 2.80416959e+01\n",
            "  8.18774094e+03]\n",
            " [8.25752831e+01 1.16961464e+01 2.76890362e+01 1.10599544e+00\n",
            "  3.22933539e+02]\n",
            " [2.44402472e+04 3.46177087e+03 8.19527179e+03 3.27347371e+02\n",
            "  9.55803628e+04]]\n",
            "Degree of Freedom:- 1\n",
            "chi-square statistic:- 325267.4247584677\n",
            "critical_value: 3.841458820694124\n",
            "p-value: 0.0\n",
            "Significance level:  0.05\n",
            "Degree of Freedom:  1\n",
            "chi-square statistic: 325267.4247584677\n",
            "critical_value: 3.841458820694124\n",
            "p-value: 0.0\n",
            "Reject H0,There is a relationship between 2 categorical variables\n",
            "Reject H0,There is a relationship between 2 categorical variables\n",
            "**************************************************\n",
            "Neighborhoods - Analysis Boundaries\n",
            "contingency_table :-\n",
            " Neighborhoods - Analysis Boundaries     bayview_hunters_point  ...  western_addition\n",
            "Existing Construction Type Description                         ...                  \n",
            "constr_type_1                                             309  ...               979\n",
            "constr_type_2                                             158  ...               163\n",
            "constr_type_3                                             479  ...               278\n",
            "constr_type_4                                              19  ...                13\n",
            "wood_frame_5                                             4055  ...              2148\n",
            "\n",
            "[5 rows x 41 columns]\n",
            "Observed Values :-\n",
            " [[  309   248   454  1462    73 16139    97    22   299   584   243   268\n",
            "    224   141     7   271   562     3  1198  1103  1164   376   481    66\n",
            "     76   336   832    48   332    13   274   529    26  2830   215  1140\n",
            "      8    62    21   222   979]\n",
            " [  158    41   103    99    26   895    15     9    49    95    48    53\n",
            "     36   237     0    55   109     0   361   206   203    60   244    19\n",
            "     28    61   187    19   138     1    45    89    10   371    52   393\n",
            "     12    15     6    65   163]\n",
            " [  479   107   210   602    37  1623    42     5   168   368   106   115\n",
            "     19    50     1    77   303     0   917   310   698   136   338    23\n",
            "     48   142   425    48   302     1   115   341    16  1238   107  1381\n",
            "      3    16    17    96   278]\n",
            " [   19     5    17     5    10    35     5     1    10     8    10    11\n",
            "      0     3     0     5     8     0    25    42    27    16    12     3\n",
            "      2     9    19     2     7     0    16    22     1    27    14    25\n",
            "      0     2     0    10    13]\n",
            " [ 4055  5211  7097  1253  2734  1782  2310    21  4816  3982  3705  4955\n",
            "    365   805    40  2665  6638    40 10768   471  3390  6741  2611  2342\n",
            "   1901  6736  6539  1197  3154    31  3373  4070   877  2451  9170  1416\n",
            "     40  1482   765  7858  2148]]\n",
            "Expected Values :-\n",
            " [[9.29159388e+02 1.03873356e+03 1.45870620e+03 6.33198061e+02\n",
            "  5.33063553e+02 3.78956361e+03 4.56990942e+02 1.07353077e+01\n",
            "  9.88758855e+02 9.32305944e+02 7.61096296e+02 9.99864346e+02\n",
            "  1.19198933e+02 2.28773108e+02 8.88439256e+00 5.68786215e+02\n",
            "  1.41039732e+03 7.95893500e+00 2.45597927e+03 3.94615103e+02\n",
            "  1.01467167e+03 1.35653569e+03 6.82247312e+02 4.54029478e+02\n",
            "  3.80363056e+02 1.34820657e+03 1.48110228e+03 2.43210246e+02\n",
            "  7.27964915e+02 8.51420953e+00 7.07604849e+02 9.34897225e+02\n",
            "  1.72135106e+02 1.28027799e+03 1.76910467e+03 8.06073533e+02\n",
            "  1.16607652e+01 2.91889314e+02 1.49739033e+02 1.52719006e+03\n",
            "  6.62812703e+02]\n",
            " [1.31537044e+02 1.47048982e+02 2.06502677e+02 8.96390888e+01\n",
            "  7.54634831e+01 5.36471998e+02 6.46942152e+01 1.51975070e+00\n",
            "  1.39974280e+02 1.31982488e+02 1.07745084e+02 1.41546436e+02\n",
            "  1.68744733e+01 3.23864115e+01 1.25772472e+00 8.05205846e+01\n",
            "  1.99663799e+02 1.12671173e+00 3.47682277e+02 5.58639396e+01\n",
            "  1.43642644e+02 1.92038843e+02 9.65827774e+01 6.42749737e+01\n",
            "  5.38463395e+01 1.90859726e+02 2.09673192e+02 3.44302142e+01\n",
            "  1.03054819e+02 1.20531952e+00 1.00172533e+02 1.32349324e+02\n",
            "  2.43684164e+01 1.81243373e+02 2.50444435e+02 1.14112316e+02\n",
            "  1.65076369e+00 4.13214975e+01 2.11979020e+01 2.16197639e+02\n",
            "  9.38315046e+01]\n",
            " [3.11436534e+02 3.48163711e+02 4.88930543e+02 2.12235933e+02\n",
            "  1.78672753e+02 1.27018956e+03 1.53174662e+02 3.59827072e+00\n",
            "  3.31413141e+02 3.12491200e+02 2.55104986e+02 3.35135490e+02\n",
            "  3.99532128e+01 7.66803897e+01 2.97787921e+00 1.90646309e+02\n",
            "  4.72738325e+02 2.66768346e+00 8.23197485e+02 1.32267468e+02\n",
            "  3.40098622e+02 4.54684932e+02 2.28676308e+02 1.52182036e+02\n",
            "  1.27490454e+02 4.51893171e+02 4.96437281e+02 8.15194435e+01\n",
            "  2.43999978e+02 2.85380091e+00 2.37175672e+02 3.13359748e+02\n",
            "  5.76964098e+01 4.29124802e+02 5.92970198e+02 2.70180499e+02\n",
            "  3.90846647e+00 9.78357400e+01 5.01896726e+01 5.11885029e+02\n",
            "  2.22162197e+02]\n",
            " [1.22834006e+01 1.37319610e+01 1.92839602e+01 8.37081943e+00\n",
            "  7.04705056e+00 5.00976782e+01 6.04137772e+00 1.41919768e-01\n",
            "  1.30713000e+01 1.23249978e+01 1.00616222e+01 1.32181136e+01\n",
            "  1.57579881e+00 3.02435920e+00 1.17450843e-01 7.51930083e+00\n",
            "  1.86453213e+01 1.05216380e-01 3.24678173e+01 5.21677493e+00\n",
            "  1.34138650e+01 1.79332755e+01 9.01924596e+00 6.00222744e+00\n",
            "  5.02836420e+00 1.78231654e+01 1.95800342e+01 3.21521682e+00\n",
            "  9.62362842e+00 1.12557058e-01 9.35447024e+00 1.23592543e+01\n",
            "  2.27561008e+00 1.69251558e+01 2.33873991e+01 1.06562171e+01\n",
            "  1.54154231e-01 3.85874956e+00 1.97953608e+00 2.01893105e+01\n",
            "  8.76232224e+00]\n",
            " [3.63558363e+03 4.06432178e+03 5.70757662e+03 2.47755610e+03\n",
            "  2.08575316e+03 1.48276772e+04 1.78809880e+03 4.20047511e+01\n",
            "  3.86878242e+03 3.64789537e+03 2.97799201e+03 3.91223561e+03\n",
            "  4.66397582e+02 8.95135731e+02 3.47625527e+01 2.22552759e+03\n",
            "  5.51855524e+03 3.11414534e+01 9.60967315e+03 1.54403671e+03\n",
            "  3.97017320e+03 5.30780726e+03 2.66947436e+03 1.77651129e+03\n",
            "  1.48827179e+03 5.27521737e+03 5.79520722e+03 9.51624879e+02\n",
            "  2.84835666e+03 3.33141130e+01 2.76869248e+03 3.65803445e+03\n",
            "  6.73524458e+02 5.00942868e+03 6.92209330e+03 3.15397743e+03\n",
            "  4.56258504e+01 1.14209470e+03 5.85893856e+02 5.97553796e+03\n",
            "  2.59343127e+03]]\n",
            "Degree of Freedom:- 1\n",
            "chi-square statistic:- 1735.9973934690806\n",
            "critical_value: 3.841458820694124\n",
            "p-value: 0.0\n",
            "Significance level:  0.05\n",
            "Degree of Freedom:  1\n",
            "chi-square statistic: 1735.9973934690806\n",
            "critical_value: 3.841458820694124\n",
            "p-value: 0.0\n",
            "Reject H0,There is a relationship between 2 categorical variables\n",
            "Reject H0,There is a relationship between 2 categorical variables\n",
            "**************************************************\n",
            "Location\n",
            "contingency_table :-\n",
            " Location                                (37.708255336721685, -122.44291501224802)  ...  (37.825016569295464, -122.36979125536845)\n",
            "Existing Construction Type Description                                             ...                                           \n",
            "constr_type_1                                                                   0  ...                                          2\n",
            "constr_type_2                                                                   0  ...                                          0\n",
            "constr_type_3                                                                   0  ...                                          0\n",
            "constr_type_4                                                                   0  ...                                          0\n",
            "wood_frame_5                                                                    2  ...                                          0\n",
            "\n",
            "[5 rows x 54882 columns]\n",
            "Observed Values :-\n",
            " [[ 0  0  0 ...  1  5  2]\n",
            " [ 0  0  0 ...  1 11  0]\n",
            " [ 0  0  0 ...  0  3  0]\n",
            " [ 0  0  0 ...  0  0  0]\n",
            " [ 2  1  1 ...  3 37  0]]\n",
            "Expected Values :-\n",
            " [[3.70183023e-01 1.85091512e-01 1.85091512e-01 ... 9.25457558e-01\n",
            "  1.03651246e+01 3.70183023e-01]\n",
            " [5.24051966e-02 2.62025983e-02 2.62025983e-02 ... 1.31012992e-01\n",
            "  1.46734551e+00 5.24051966e-02]\n",
            " [1.24078301e-01 6.20391503e-02 6.20391503e-02 ... 3.10195751e-01\n",
            "  3.47419242e+00 1.24078301e-01]\n",
            " [4.89378511e-03 2.44689256e-03 2.44689256e-03 ... 1.22344628e-02\n",
            "  1.37025983e-01 4.89378511e-03]\n",
            " [1.44843969e+00 7.24219847e-01 7.24219847e-01 ... 3.62109924e+00\n",
            "  4.05563114e+01 1.44843969e+00]]\n",
            "Degree of Freedom:- 1\n",
            "chi-square statistic:- 1.1423885458884133\n",
            "critical_value: 3.841458820694124\n",
            "p-value: 0.28514818096020333\n",
            "Significance level:  0.05\n",
            "Degree of Freedom:  1\n",
            "chi-square statistic: 1.1423885458884133\n",
            "critical_value: 3.841458820694124\n",
            "p-value: 0.28514818096020333\n",
            "Retain H0,There is no relationship between 2 categorical variables\n",
            "Retain H0,There is no relationship between 2 categorical variables\n",
            "**************************************************\n"
          ],
          "name": "stdout"
        }
      ]
    },
    {
      "cell_type": "markdown",
      "metadata": {
        "id": "4yFPhN0ALD_l"
      },
      "source": [
        "**Is there any significant relationship of Existing Construction Type Description with any other feature in the dataset, if yes then what all are the features?**"
      ]
    },
    {
      "cell_type": "markdown",
      "metadata": {
        "id": "ynpVmx5R1zMS"
      },
      "source": [
        "**Annova test**  (category vs numerical)"
      ]
    },
    {
      "cell_type": "code",
      "metadata": {
        "colab": {
          "base_uri": "https://localhost:8080/"
        },
        "id": "sJ_-T_RZ86PY",
        "outputId": "51f6c353-0a60-4f17-844d-a47bfe61ae16"
      },
      "source": [
        "  df_anova = data\n",
        "  print('Permit Type')\n",
        "  df_anova = df_anova[['Existing Construction Type Description','Permit Type']]\n",
        "  grps = pd.unique(df_anova['Existing Construction Type Description'].values)\n",
        "  d_data = {grp:df_anova['Permit Type'][df_anova['Existing Construction Type Description'] == grp] for grp in grps}\n",
        " \n",
        "  F, p = stats.f_oneway(d_data['constr_type_3'], d_data['wood_frame_5'], d_data['constr_type_1'], d_data['constr_type_4'], d_data['constr_type_2'])\n",
        "  print(\"p-value for significance is: \", p)\n",
        "  if p<0.05:\n",
        "    print(\"reject null hypothesis\")\n",
        "  else:\n",
        "    print(\"accept null hypothesis\")"
      ],
      "execution_count": null,
      "outputs": [
        {
          "output_type": "stream",
          "text": [
            "Permit Type\n",
            "p-value for significance is:  4.0823063258032324e-76\n",
            "reject null hypothesis\n"
          ],
          "name": "stdout"
        }
      ]
    },
    {
      "cell_type": "code",
      "metadata": {
        "colab": {
          "base_uri": "https://localhost:8080/"
        },
        "id": "FmwJHfxkDQHE",
        "outputId": "c84f86c0-f195-4c70-f7a7-c656d713b0a5"
      },
      "source": [
        "  df_anova1 = data\n",
        "  print('Street Number')\n",
        "  df_anova1 = df_anova1[['Existing Construction Type Description','Street Number']]\n",
        "  grps = pd.unique(df_anova1['Existing Construction Type Description'].values)\n",
        "  d_data1 = {grp:df_anova1['Street Number'][df_anova1['Existing Construction Type Description'] == grp] for grp in grps}\n",
        " \n",
        "  F, p = stats.f_oneway(d_data1['constr_type_3'], d_data1['wood_frame_5'], d_data1['constr_type_1'], d_data1['constr_type_4'], d_data1['constr_type_2'])\n",
        "  print(\"p-value for significance is: \", p)\n",
        "  if p<0.05:\n",
        "    print(\"reject null hypothesis\")\n",
        "  else:\n",
        "    print(\"accept null hypothesis\")"
      ],
      "execution_count": null,
      "outputs": [
        {
          "output_type": "stream",
          "text": [
            "Street Number\n",
            "p-value for significance is:  0.0\n",
            "reject null hypothesis\n"
          ],
          "name": "stdout"
        }
      ]
    },
    {
      "cell_type": "code",
      "metadata": {
        "colab": {
          "base_uri": "https://localhost:8080/"
        },
        "id": "AGK5bINRHxNH",
        "outputId": "787e709f-dfc9-4283-fa64-91d6d8c6de60"
      },
      "source": [
        "  df_anova1 = data\n",
        "  print('Number of Existing Stories')\n",
        "  df_anova1 = df_anova1[['Existing Construction Type Description','Number of Existing Stories']]\n",
        "  grps = pd.unique(df_anova1['Existing Construction Type Description'].values)\n",
        "  d_data1 = {grp:df_anova1['Number of Existing Stories'][df_anova1['Existing Construction Type Description'] == grp] for grp in grps}\n",
        " \n",
        "  F, p = stats.f_oneway(d_data1['constr_type_3'], d_data1['wood_frame_5'], d_data1['constr_type_1'], d_data1['constr_type_4'], d_data1['constr_type_2'])\n",
        "  print(\"p-value for significance is: \", p)\n",
        "  if p<0.05:\n",
        "    print(\"reject null hypothesis\")\n",
        "  else:\n",
        "    print(\"accept null hypothesis\")"
      ],
      "execution_count": null,
      "outputs": [
        {
          "output_type": "stream",
          "text": [
            "Number of Existing Stories\n",
            "p-value for significance is:  0.0\n",
            "reject null hypothesis\n"
          ],
          "name": "stdout"
        }
      ]
    },
    {
      "cell_type": "code",
      "metadata": {
        "colab": {
          "base_uri": "https://localhost:8080/"
        },
        "id": "42Sfd47HIAPs",
        "outputId": "a1bdaf3d-1424-406d-bc82-c34e4e1b7ff2"
      },
      "source": [
        "  df_anova1 = data\n",
        "  print('Number of Proposed Stories')\n",
        "  df_anova1 = df_anova1[['Existing Construction Type Description','Number of Proposed Stories']]\n",
        "  grps = pd.unique(df_anova1['Existing Construction Type Description'].values)\n",
        "  d_data1 = {grp:df_anova1['Number of Proposed Stories'][df_anova1['Existing Construction Type Description'] == grp] for grp in grps}\n",
        " \n",
        "  F, p = stats.f_oneway(d_data1['constr_type_3'], d_data1['wood_frame_5'], d_data1['constr_type_1'], d_data1['constr_type_4'], d_data1['constr_type_2'])\n",
        "  print(\"p-value for significance is: \", p)\n",
        "  if p<0.05:\n",
        "    print(\"reject null hypothesis\")\n",
        "  else:\n",
        "    print(\"accept null hypothesis\")"
      ],
      "execution_count": null,
      "outputs": [
        {
          "output_type": "stream",
          "text": [
            "Number of Proposed Stories\n",
            "p-value for significance is:  0.0\n",
            "reject null hypothesis\n"
          ],
          "name": "stdout"
        }
      ]
    },
    {
      "cell_type": "code",
      "metadata": {
        "colab": {
          "base_uri": "https://localhost:8080/"
        },
        "id": "Xzl4MpOAIAGB",
        "outputId": "c0a5a3ca-6c31-4233-a5f8-300610180f6b"
      },
      "source": [
        "  df_anova1 = data\n",
        "  print('Estimated Cost')\n",
        "  df_anova1 = df_anova1[['Existing Construction Type Description','Estimated Cost']]\n",
        "  grps = pd.unique(df_anova1['Existing Construction Type Description'].values)\n",
        "  d_data1 = {grp:df_anova1['Estimated Cost'][df_anova1['Existing Construction Type Description'] == grp] for grp in grps}\n",
        " \n",
        "  F, p = stats.f_oneway(d_data1['constr_type_3'], d_data1['wood_frame_5'], d_data1['constr_type_1'], d_data1['constr_type_4'], d_data1['constr_type_2'])\n",
        "  print(\"p-value for significance is: \", p)\n",
        "  if p<0.05:\n",
        "    print(\"reject null hypothesis\")\n",
        "  else:\n",
        "    print(\"accept null hypothesis\")"
      ],
      "execution_count": null,
      "outputs": [
        {
          "output_type": "stream",
          "text": [
            "Estimated Cost\n",
            "p-value for significance is:  3.354035704406078e-69\n",
            "reject null hypothesis\n"
          ],
          "name": "stdout"
        }
      ]
    },
    {
      "cell_type": "code",
      "metadata": {
        "colab": {
          "base_uri": "https://localhost:8080/"
        },
        "id": "tZ0yVGO1IdPn",
        "outputId": "b254d20c-7413-4621-cba2-ccc81b703152"
      },
      "source": [
        "  df_anova1 = data\n",
        "  print('Revised Cost')\n",
        "  df_anova1 = df_anova1[['Existing Construction Type Description','Revised Cost']]\n",
        "  grps = pd.unique(df_anova1['Existing Construction Type Description'].values)\n",
        "  d_data1 = {grp:df_anova1['Revised Cost'][df_anova1['Existing Construction Type Description'] == grp] for grp in grps}\n",
        " \n",
        "  F, p = stats.f_oneway(d_data1['constr_type_3'], d_data1['wood_frame_5'], d_data1['constr_type_1'], d_data1['constr_type_4'], d_data1['constr_type_2'])\n",
        "  print(\"p-value for significance is: \", p)\n",
        "  if p<0.05:\n",
        "    print(\"reject null hypothesis\")\n",
        "  else:\n",
        "    print(\"accept null hypothesis\")"
      ],
      "execution_count": null,
      "outputs": [
        {
          "output_type": "stream",
          "text": [
            "Revised Cost\n",
            "p-value for significance is:  7.178799546001898e-68\n",
            "reject null hypothesis\n"
          ],
          "name": "stdout"
        }
      ]
    },
    {
      "cell_type": "code",
      "metadata": {
        "colab": {
          "base_uri": "https://localhost:8080/"
        },
        "id": "r3Axw5wVIot2",
        "outputId": "09b30a11-ebda-4df3-93b3-bf2f058ce9df"
      },
      "source": [
        "  df_anova1 = data\n",
        "  print('Existing Units')\n",
        "  df_anova1 = df_anova1[['Existing Construction Type Description','Existing Units']]\n",
        "  grps = pd.unique(df_anova1['Existing Construction Type Description'].values)\n",
        "  d_data1 = {grp:df_anova1['Existing Units'][df_anova1['Existing Construction Type Description'] == grp] for grp in grps}\n",
        " \n",
        "  F, p = stats.f_oneway(d_data1['constr_type_3'], d_data1['wood_frame_5'], d_data1['constr_type_1'], d_data1['constr_type_4'], d_data1['constr_type_2'])\n",
        "  print(\"p-value for significance is: \", p)\n",
        "  if p<0.05:\n",
        "    print(\"reject null hypothesis\")\n",
        "  else:\n",
        "    print(\"accept null hypothesis\")"
      ],
      "execution_count": null,
      "outputs": [
        {
          "output_type": "stream",
          "text": [
            "Existing Units\n",
            "p-value for significance is:  0.0\n",
            "reject null hypothesis\n"
          ],
          "name": "stdout"
        }
      ]
    },
    {
      "cell_type": "code",
      "metadata": {
        "colab": {
          "base_uri": "https://localhost:8080/"
        },
        "id": "aIH2SiyDI3oY",
        "outputId": "6cb7ad4c-b4b2-4437-cc45-13030515aa85"
      },
      "source": [
        "  df_anova1 = data\n",
        "  print('Proposed Units')\n",
        "  df_anova1 = df_anova1[['Existing Construction Type Description','Proposed Units']]\n",
        "  grps = pd.unique(df_anova1['Existing Construction Type Description'].values)\n",
        "  d_data1 = {grp:df_anova1['Proposed Units'][df_anova1['Existing Construction Type Description'] == grp] for grp in grps}\n",
        " \n",
        "  F, p = stats.f_oneway(d_data1['constr_type_3'], d_data1['wood_frame_5'], d_data1['constr_type_1'], d_data1['constr_type_4'], d_data1['constr_type_2'])\n",
        "  print(\"p-value for significance is: \", p)\n",
        "  if p<0.05:\n",
        "    print(\"reject null hypothesis\")\n",
        "  else:\n",
        "    print(\"accept null hypothesis\")"
      ],
      "execution_count": null,
      "outputs": [
        {
          "output_type": "stream",
          "text": [
            "Proposed Units\n",
            "p-value for significance is:  0.0\n",
            "reject null hypothesis\n"
          ],
          "name": "stdout"
        }
      ]
    },
    {
      "cell_type": "code",
      "metadata": {
        "colab": {
          "base_uri": "https://localhost:8080/"
        },
        "id": "wyEmjbTKJAFy",
        "outputId": "d42de3f6-373c-4556-d54e-7c6feeb4f5d1"
      },
      "source": [
        "  df_anova1 = data\n",
        "  print('Plansets')\n",
        "  df_anova1 = df_anova1[['Existing Construction Type Description','Plansets']]\n",
        "  grps = pd.unique(df_anova1['Existing Construction Type Description'].values)\n",
        "  d_data1 = {grp:df_anova1['Plansets'][df_anova1['Existing Construction Type Description'] == grp] for grp in grps}\n",
        " \n",
        "  F, p = stats.f_oneway(d_data1['constr_type_3'], d_data1['wood_frame_5'], d_data1['constr_type_1'], d_data1['constr_type_4'], d_data1['constr_type_2'])\n",
        "  print(\"p-value for significance is: \", p)\n",
        "  if p<0.05:\n",
        "    print(\"reject null hypothesis\")\n",
        "  else:\n",
        "    print(\"accept null hypothesis\")"
      ],
      "execution_count": null,
      "outputs": [
        {
          "output_type": "stream",
          "text": [
            "Plansets\n",
            "p-value for significance is:  2.5656957222716467e-09\n",
            "reject null hypothesis\n"
          ],
          "name": "stdout"
        }
      ]
    },
    {
      "cell_type": "code",
      "metadata": {
        "colab": {
          "base_uri": "https://localhost:8080/"
        },
        "id": "NXXO42_xJSwg",
        "outputId": "b36b6a23-4525-4c38-a4bd-86f497d8430a"
      },
      "source": [
        "  df_anova1 = data\n",
        "  print('Existing Construction Type')\n",
        "  df_anova1 = df_anova1[['Existing Construction Type Description','Existing Construction Type']]\n",
        "  grps = pd.unique(df_anova1['Existing Construction Type Description'].values)\n",
        "  d_data1 = {grp:df_anova1['Existing Construction Type'][df_anova1['Existing Construction Type Description'] == grp] for grp in grps}\n",
        " \n",
        "  F, p = stats.f_oneway(d_data1['constr_type_3'], d_data1['wood_frame_5'], d_data1['constr_type_1'], d_data1['constr_type_4'], d_data1['constr_type_2'])\n",
        "  print(\"p-value for significance is: \", p)\n",
        "  if p<0.05:\n",
        "    print(\"reject null hypothesis\")\n",
        "  else:\n",
        "    print(\"accept null hypothesis\")"
      ],
      "execution_count": null,
      "outputs": [
        {
          "output_type": "stream",
          "text": [
            "Existing Construction Type\n",
            "p-value for significance is:  0.0\n",
            "reject null hypothesis\n"
          ],
          "name": "stdout"
        }
      ]
    },
    {
      "cell_type": "code",
      "metadata": {
        "colab": {
          "base_uri": "https://localhost:8080/"
        },
        "id": "S-yHF3PkJdeF",
        "outputId": "1489cf2d-bbb9-436e-9919-909c1daebc45"
      },
      "source": [
        "  df_anova1 = data\n",
        "  print('Proposed Construction Type')\n",
        "  df_anova1 = df_anova1[['Existing Construction Type Description','Proposed Construction Type']]\n",
        "  grps = pd.unique(df_anova1['Existing Construction Type Description'].values)\n",
        "  d_data1 = {grp:df_anova1['Proposed Construction Type'][df_anova1['Existing Construction Type Description'] == grp] for grp in grps}\n",
        " \n",
        "  F, p = stats.f_oneway(d_data1['constr_type_3'], d_data1['wood_frame_5'], d_data1['constr_type_1'], d_data1['constr_type_4'], d_data1['constr_type_2'])\n",
        "  print(\"p-value for significance is: \", p)\n",
        "  if p<0.05:\n",
        "    print(\"reject null hypothesis\")\n",
        "  else:\n",
        "    print(\"accept null hypothesis\")"
      ],
      "execution_count": null,
      "outputs": [
        {
          "output_type": "stream",
          "text": [
            "Proposed Construction Type\n",
            "p-value for significance is:  0.0\n",
            "reject null hypothesis\n"
          ],
          "name": "stdout"
        }
      ]
    },
    {
      "cell_type": "code",
      "metadata": {
        "colab": {
          "base_uri": "https://localhost:8080/"
        },
        "id": "UiYnO51wJoVZ",
        "outputId": "333cdbd7-3fca-41ed-e4ab-d7470049dbaa"
      },
      "source": [
        "  df_anova1 = data\n",
        "  print('Supervisor District')\n",
        "  df_anova1 = df_anova1[['Existing Construction Type Description','Supervisor District']]\n",
        "  grps = pd.unique(df_anova1['Existing Construction Type Description'].values)\n",
        "  d_data1 = {grp:df_anova1['Supervisor District'][df_anova1['Existing Construction Type Description'] == grp] for grp in grps}\n",
        " \n",
        "  F, p = stats.f_oneway(d_data1['constr_type_3'], d_data1['wood_frame_5'], d_data1['constr_type_1'], d_data1['constr_type_4'], d_data1['constr_type_2'])\n",
        "  print(\"p-value for significance is: \", p)\n",
        "  if p<0.05:\n",
        "    print(\"reject null hypothesis\")\n",
        "  else:\n",
        "    print(\"accept null hypothesis\")"
      ],
      "execution_count": null,
      "outputs": [
        {
          "output_type": "stream",
          "text": [
            "Supervisor District\n",
            "p-value for significance is:  0.0\n",
            "reject null hypothesis\n"
          ],
          "name": "stdout"
        }
      ]
    },
    {
      "cell_type": "code",
      "metadata": {
        "colab": {
          "base_uri": "https://localhost:8080/"
        },
        "id": "bqAqUGX-J1N1",
        "outputId": "382785f1-2a01-422a-df70-ff70c3386b41"
      },
      "source": [
        "  df_anova1 = data\n",
        "  print('Zipcode')\n",
        "  df_anova1 = df_anova1[['Existing Construction Type Description','Zipcode']]\n",
        "  grps = pd.unique(df_anova1['Existing Construction Type Description'].values)\n",
        "  d_data1 = {grp:df_anova1['Zipcode'][df_anova1['Existing Construction Type Description'] == grp] for grp in grps}\n",
        " \n",
        "  F, p = stats.f_oneway(d_data1['constr_type_3'], d_data1['wood_frame_5'], d_data1['constr_type_1'], d_data1['constr_type_4'], d_data1['constr_type_2'])\n",
        "  print(\"p-value for significance is: \", p)\n",
        "  if p<0.05:\n",
        "    print(\"reject null hypothesis\")\n",
        "  else:\n",
        "    print(\"accept null hypothesis\")"
      ],
      "execution_count": null,
      "outputs": [
        {
          "output_type": "stream",
          "text": [
            "Zipcode\n",
            "p-value for significance is:  0.0\n",
            "reject null hypothesis\n"
          ],
          "name": "stdout"
        }
      ]
    },
    {
      "cell_type": "code",
      "metadata": {
        "colab": {
          "base_uri": "https://localhost:8080/"
        },
        "id": "TCDi_0NTKIUH",
        "outputId": "ddb2f3c6-1683-457a-b6d4-71fee97588ec"
      },
      "source": [
        "df_anova1 = data\n",
        "print('Record ID')\n",
        "df_anova1 = df_anova1[['Existing Construction Type Description','Record ID']]\n",
        "grps = pd.unique(df_anova1['Existing Construction Type Description'].values)\n",
        "d_data1 = {grp:df_anova1['Record ID'][df_anova1['Existing Construction Type Description'] == grp] for grp in grps}\n",
        "F, p = stats.f_oneway(d_data1['constr_type_3'], d_data1['wood_frame_5'], d_data1['constr_type_1'], d_data1['constr_type_4'], d_data1['constr_type_2'])\n",
        "print(\"p-value for significance is: \", p)\n",
        "if p<0.05:\n",
        "  print(\"reject null hypothesis\")\n",
        "else:\n",
        "  print(\"accept null hypothesis\")"
      ],
      "execution_count": null,
      "outputs": [
        {
          "output_type": "stream",
          "text": [
            "Record ID\n",
            "p-value for significance is:  0.0\n",
            "reject null hypothesis\n"
          ],
          "name": "stdout"
        }
      ]
    },
    {
      "cell_type": "markdown",
      "metadata": {
        "id": "lyjc9zfyTrwc"
      },
      "source": [
        "Other test to verify"
      ]
    },
    {
      "cell_type": "markdown",
      "metadata": {
        "id": "WSCUoH-tygkD"
      },
      "source": [
        "Pearson correlation"
      ]
    },
    {
      "cell_type": "code",
      "metadata": {
        "colab": {
          "base_uri": "https://localhost:8080/"
        },
        "id": "ZV77R9ItXRhG",
        "outputId": "5e73e106-e506-4856-858f-c1ea07a388c8"
      },
      "source": [
        "from scipy.stats import pearsonr\n",
        "data1 = data['Existing Construction Type']\n",
        "data2 = data['Permit Type']\n",
        "stat, p = pearsonr(data1, data2)\n",
        "print('stat=%.3f, p=%.3f' % (stat, p))\n",
        "if p > 0.05:\n",
        "\tprint('Probably independent')\n",
        "else:\n",
        "\tprint('Probably dependent')"
      ],
      "execution_count": null,
      "outputs": [
        {
          "output_type": "stream",
          "text": [
            "stat=0.021, p=0.000\n",
            "Probably dependent\n"
          ],
          "name": "stdout"
        }
      ]
    },
    {
      "cell_type": "markdown",
      "metadata": {
        "id": "2xnQ62Cv0u4k"
      },
      "source": [
        "Mann-Whitney U Test"
      ]
    },
    {
      "cell_type": "code",
      "metadata": {
        "colab": {
          "base_uri": "https://localhost:8080/"
        },
        "id": "c-dfd1YUYifu",
        "outputId": "a83ca108-6c26-4712-87cf-19518f8621e6"
      },
      "source": [
        "from scipy.stats import mannwhitneyu\n",
        "data1 = data['Existing Construction Type']\n",
        "data2 = data['Permit Type']\n",
        "stat, p = mannwhitneyu(data1, data2)\n",
        "print('stat=%.3f, p=%.3f' % (stat, p))\n",
        "if p > 0.05:\n",
        "\tprint('Probably the same distribution')\n",
        "else:\n",
        "\tprint('Probably different distributions')"
      ],
      "execution_count": null,
      "outputs": [
        {
          "output_type": "stream",
          "text": [
            "stat=1732764707.000, p=0.000\n",
            "Probably different distributions\n"
          ],
          "name": "stdout"
        }
      ]
    }
  ]
}