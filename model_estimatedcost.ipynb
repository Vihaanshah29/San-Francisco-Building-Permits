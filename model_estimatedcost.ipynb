{
  "nbformat": 4,
  "nbformat_minor": 0,
  "metadata": {
    "colab": {
      "name": "Vihaan_Capstone_1_model_estimatedcost.ipynb",
      "provenance": [],
      "collapsed_sections": []
    },
    "kernelspec": {
      "name": "python3",
      "display_name": "Python 3"
    },
    "language_info": {
      "name": "python"
    }
  },
  "cells": [
    {
      "cell_type": "code",
      "metadata": {
        "id": "DaxqMQVy5bEQ"
      },
      "source": [
        "import numpy as np\n",
        "import pandas as pd\n",
        "import matplotlib.pyplot as plt\n",
        "import seaborn as sns\n",
        "import warnings\n",
        "warnings.filterwarnings('ignore')\n",
        "sns.set()"
      ],
      "execution_count": null,
      "outputs": []
    },
    {
      "cell_type": "code",
      "metadata": {
        "colab": {
          "base_uri": "https://localhost:8080/"
        },
        "id": "UqLeZysz5CW0",
        "outputId": "08ad81d7-aaa2-474c-8460-c88dca6ba107"
      },
      "source": [
        "from google.colab import drive\n",
        "drive.mount('/content/drive')"
      ],
      "execution_count": null,
      "outputs": [
        {
          "output_type": "stream",
          "text": [
            "Drive already mounted at /content/drive; to attempt to forcibly remount, call drive.mount(\"/content/drive\", force_remount=True).\n"
          ],
          "name": "stdout"
        }
      ]
    },
    {
      "cell_type": "markdown",
      "metadata": {
        "id": "_ZaVmD-dEaBJ"
      },
      "source": [
        "Reading the data"
      ]
    },
    {
      "cell_type": "code",
      "metadata": {
        "id": "8Nc2T63h5Ojt"
      },
      "source": [
        "data = pd.read_csv('/content/drive/MyDrive/capstone_final_preprocessed_data.csv')"
      ],
      "execution_count": null,
      "outputs": []
    },
    {
      "cell_type": "code",
      "metadata": {
        "id": "RhRy5-vKaYzx"
      },
      "source": [
        "data=data.drop('Unnamed: 0',axis=1)"
      ],
      "execution_count": null,
      "outputs": []
    },
    {
      "cell_type": "code",
      "metadata": {
        "colab": {
          "base_uri": "https://localhost:8080/",
          "height": 383
        },
        "id": "C_N1oIu-6tbN",
        "outputId": "29ede515-a9d6-453b-cd1d-bcac054198a3"
      },
      "source": [
        "data.head()"
      ],
      "execution_count": null,
      "outputs": [
        {
          "output_type": "execute_result",
          "data": {
            "text/html": [
              "<div>\n",
              "<style scoped>\n",
              "    .dataframe tbody tr th:only-of-type {\n",
              "        vertical-align: middle;\n",
              "    }\n",
              "\n",
              "    .dataframe tbody tr th {\n",
              "        vertical-align: top;\n",
              "    }\n",
              "\n",
              "    .dataframe thead th {\n",
              "        text-align: right;\n",
              "    }\n",
              "</style>\n",
              "<table border=\"1\" class=\"dataframe\">\n",
              "  <thead>\n",
              "    <tr style=\"text-align: right;\">\n",
              "      <th></th>\n",
              "      <th>Permit Number</th>\n",
              "      <th>Permit Type</th>\n",
              "      <th>Permit Type Definition</th>\n",
              "      <th>Permit Creation Date</th>\n",
              "      <th>Block</th>\n",
              "      <th>Lot</th>\n",
              "      <th>Street Number</th>\n",
              "      <th>Street Name</th>\n",
              "      <th>Street Suffix</th>\n",
              "      <th>Description</th>\n",
              "      <th>Current Status</th>\n",
              "      <th>Current Status Date</th>\n",
              "      <th>Filed Date</th>\n",
              "      <th>Issued Date</th>\n",
              "      <th>First Construction Document Date</th>\n",
              "      <th>Number of Existing Stories</th>\n",
              "      <th>Number of Proposed Stories</th>\n",
              "      <th>Permit Expiration Date</th>\n",
              "      <th>Estimated Cost</th>\n",
              "      <th>Revised Cost</th>\n",
              "      <th>Existing Use</th>\n",
              "      <th>Existing Units</th>\n",
              "      <th>Proposed Use</th>\n",
              "      <th>Proposed Units</th>\n",
              "      <th>Plansets</th>\n",
              "      <th>Existing Construction Type</th>\n",
              "      <th>Existing Construction Type Description</th>\n",
              "      <th>Proposed Construction Type</th>\n",
              "      <th>Proposed Construction Type Description</th>\n",
              "      <th>Supervisor District</th>\n",
              "      <th>Neighborhoods - Analysis Boundaries</th>\n",
              "      <th>Zipcode</th>\n",
              "      <th>Location</th>\n",
              "      <th>Record ID</th>\n",
              "    </tr>\n",
              "  </thead>\n",
              "  <tbody>\n",
              "    <tr>\n",
              "      <th>0</th>\n",
              "      <td>201505065519</td>\n",
              "      <td>4</td>\n",
              "      <td>sign__erect</td>\n",
              "      <td>05/06/2015</td>\n",
              "      <td>0326</td>\n",
              "      <td>023</td>\n",
              "      <td>140</td>\n",
              "      <td>Ellis</td>\n",
              "      <td>St</td>\n",
              "      <td>ground fl facade: to erect illuminated, electr...</td>\n",
              "      <td>expired</td>\n",
              "      <td>12/21/2017</td>\n",
              "      <td>05/06/2015</td>\n",
              "      <td>11/09/2015</td>\n",
              "      <td>11/09/2015</td>\n",
              "      <td>6.0</td>\n",
              "      <td>6.0</td>\n",
              "      <td>11/03/2016</td>\n",
              "      <td>4000.0</td>\n",
              "      <td>4000.0</td>\n",
              "      <td>tourist_hotel/motel</td>\n",
              "      <td>143.0</td>\n",
              "      <td>tourist_hotel_motel</td>\n",
              "      <td>143.0</td>\n",
              "      <td>2.0</td>\n",
              "      <td>3.0</td>\n",
              "      <td>constr_type_3</td>\n",
              "      <td>3.0</td>\n",
              "      <td>constr_type_3</td>\n",
              "      <td>3.0</td>\n",
              "      <td>tenderloin</td>\n",
              "      <td>94102.0</td>\n",
              "      <td>(37.785719256680785, -122.40852313194863)</td>\n",
              "      <td>1380611233945</td>\n",
              "    </tr>\n",
              "    <tr>\n",
              "      <th>1</th>\n",
              "      <td>201604195146</td>\n",
              "      <td>4</td>\n",
              "      <td>sign__erect</td>\n",
              "      <td>04/19/2016</td>\n",
              "      <td>0306</td>\n",
              "      <td>007</td>\n",
              "      <td>440</td>\n",
              "      <td>Geary</td>\n",
              "      <td>St</td>\n",
              "      <td>remove (e) awning and associated signs.</td>\n",
              "      <td>issued</td>\n",
              "      <td>08/03/2017</td>\n",
              "      <td>04/19/2016</td>\n",
              "      <td>08/03/2017</td>\n",
              "      <td>08/03/2017</td>\n",
              "      <td>7.0</td>\n",
              "      <td>7.0</td>\n",
              "      <td>12/03/2017</td>\n",
              "      <td>1.0</td>\n",
              "      <td>500.0</td>\n",
              "      <td>tourist_hotel/motel</td>\n",
              "      <td>143.0</td>\n",
              "      <td>tourist_hotel_motel</td>\n",
              "      <td>143.0</td>\n",
              "      <td>2.0</td>\n",
              "      <td>3.0</td>\n",
              "      <td>constr_type_3</td>\n",
              "      <td>3.0</td>\n",
              "      <td>constr_type_3</td>\n",
              "      <td>3.0</td>\n",
              "      <td>tenderloin</td>\n",
              "      <td>94102.0</td>\n",
              "      <td>(37.78733980600732, -122.41063199757738)</td>\n",
              "      <td>1420164406718</td>\n",
              "    </tr>\n",
              "    <tr>\n",
              "      <th>2</th>\n",
              "      <td>201611072166</td>\n",
              "      <td>8</td>\n",
              "      <td>otc_alterations_permit</td>\n",
              "      <td>11/07/2016</td>\n",
              "      <td>0156</td>\n",
              "      <td>011</td>\n",
              "      <td>1230</td>\n",
              "      <td>Pacific</td>\n",
              "      <td>Av</td>\n",
              "      <td>repair dryrot &amp; stucco at front of bldg.</td>\n",
              "      <td>complete</td>\n",
              "      <td>07/24/2017</td>\n",
              "      <td>11/07/2016</td>\n",
              "      <td>07/18/2017</td>\n",
              "      <td>07/18/2017</td>\n",
              "      <td>2.0</td>\n",
              "      <td>2.0</td>\n",
              "      <td>07/13/2018</td>\n",
              "      <td>2000.0</td>\n",
              "      <td>2000.0</td>\n",
              "      <td>1_family_dwelling</td>\n",
              "      <td>1.0</td>\n",
              "      <td>1_family_dwelling</td>\n",
              "      <td>1.0</td>\n",
              "      <td>2.0</td>\n",
              "      <td>5.0</td>\n",
              "      <td>wood_frame_5</td>\n",
              "      <td>5.0</td>\n",
              "      <td>wood_frame_5</td>\n",
              "      <td>3.0</td>\n",
              "      <td>nob_hill</td>\n",
              "      <td>94109.0</td>\n",
              "      <td>(37.79595867909168, -122.41557405519474)</td>\n",
              "      <td>1443574295566</td>\n",
              "    </tr>\n",
              "    <tr>\n",
              "      <th>3</th>\n",
              "      <td>201611283529</td>\n",
              "      <td>6</td>\n",
              "      <td>demolitions</td>\n",
              "      <td>11/28/2016</td>\n",
              "      <td>0342</td>\n",
              "      <td>001</td>\n",
              "      <td>950</td>\n",
              "      <td>Market</td>\n",
              "      <td>St</td>\n",
              "      <td>demolish retail/office/commercial 3-story buil...</td>\n",
              "      <td>issued</td>\n",
              "      <td>12/01/2017</td>\n",
              "      <td>11/28/2016</td>\n",
              "      <td>12/01/2017</td>\n",
              "      <td>11/20/2017</td>\n",
              "      <td>3.0</td>\n",
              "      <td>3.0</td>\n",
              "      <td>12/01/2018</td>\n",
              "      <td>100000.0</td>\n",
              "      <td>100000.0</td>\n",
              "      <td>retail_sales</td>\n",
              "      <td>1.0</td>\n",
              "      <td>retail_sales</td>\n",
              "      <td>1.0</td>\n",
              "      <td>2.0</td>\n",
              "      <td>3.0</td>\n",
              "      <td>constr_type_3</td>\n",
              "      <td>3.0</td>\n",
              "      <td>constr_type_3</td>\n",
              "      <td>6.0</td>\n",
              "      <td>tenderloin</td>\n",
              "      <td>94102.0</td>\n",
              "      <td>(37.78315261897309, -122.40950883997789)</td>\n",
              "      <td>144548169992</td>\n",
              "    </tr>\n",
              "    <tr>\n",
              "      <th>4</th>\n",
              "      <td>201706149344</td>\n",
              "      <td>8</td>\n",
              "      <td>otc_alterations_permit</td>\n",
              "      <td>06/14/2017</td>\n",
              "      <td>4105</td>\n",
              "      <td>009</td>\n",
              "      <td>800</td>\n",
              "      <td>Indiana</td>\n",
              "      <td>St</td>\n",
              "      <td>evac maps</td>\n",
              "      <td>issued</td>\n",
              "      <td>07/06/2017</td>\n",
              "      <td>06/14/2017</td>\n",
              "      <td>07/06/2017</td>\n",
              "      <td>07/06/2017</td>\n",
              "      <td>5.0</td>\n",
              "      <td>5.0</td>\n",
              "      <td>07/01/2018</td>\n",
              "      <td>4000.0</td>\n",
              "      <td>4000.0</td>\n",
              "      <td>apartments</td>\n",
              "      <td>326.0</td>\n",
              "      <td>apartments</td>\n",
              "      <td>326.0</td>\n",
              "      <td>2.0</td>\n",
              "      <td>1.0</td>\n",
              "      <td>constr_type_1</td>\n",
              "      <td>1.0</td>\n",
              "      <td>constr_type_1</td>\n",
              "      <td>10.0</td>\n",
              "      <td>potrero_hill</td>\n",
              "      <td>94107.0</td>\n",
              "      <td>(37.75922331346539, -122.39170402628598)</td>\n",
              "      <td>1466911170855</td>\n",
              "    </tr>\n",
              "  </tbody>\n",
              "</table>\n",
              "</div>"
            ],
            "text/plain": [
              "  Permit Number  ...      Record ID\n",
              "0  201505065519  ...  1380611233945\n",
              "1  201604195146  ...  1420164406718\n",
              "2  201611072166  ...  1443574295566\n",
              "3  201611283529  ...   144548169992\n",
              "4  201706149344  ...  1466911170855\n",
              "\n",
              "[5 rows x 34 columns]"
            ]
          },
          "metadata": {
            "tags": []
          },
          "execution_count": 157
        }
      ]
    },
    {
      "cell_type": "code",
      "metadata": {
        "colab": {
          "base_uri": "https://localhost:8080/"
        },
        "id": "2SzThhPZe9_Z",
        "outputId": "a400cd26-9ea5-4ba8-fbc1-f6af4d92576b"
      },
      "source": [
        "data['Zipcode'].value_counts()"
      ],
      "execution_count": null,
      "outputs": [
        {
          "output_type": "execute_result",
          "data": {
            "text/plain": [
              "94110.0    16289\n",
              "94114.0    12478\n",
              "94117.0    10824\n",
              "94109.0    10412\n",
              "94103.0    10028\n",
              "94115.0     9411\n",
              "94118.0     9122\n",
              "94123.0     8814\n",
              "94122.0     8304\n",
              "94105.0     8159\n",
              "94112.0     7336\n",
              "94121.0     7204\n",
              "94131.0     7112\n",
              "94107.0     7073\n",
              "94133.0     6755\n",
              "94102.0     6534\n",
              "94116.0     6022\n",
              "94111.0     5075\n",
              "94108.0     4838\n",
              "94127.0     4731\n",
              "94124.0     4650\n",
              "94104.0     3995\n",
              "94132.0     3303\n",
              "94134.0     2723\n",
              "94158.0      997\n",
              "94130.0       63\n",
              "94129.0       20\n",
              "Name: Zipcode, dtype: int64"
            ]
          },
          "metadata": {
            "tags": []
          },
          "execution_count": 158
        }
      ]
    },
    {
      "cell_type": "code",
      "metadata": {
        "id": "cixqSHeVaq5D"
      },
      "source": [
        "X=data[['Permit Type','Current Status','Number of Existing Stories',\n",
        "       'Number of Proposed Stories','Revised Cost','Existing Units' ,'Proposed Units','Plansets','Proposed Construction Type',\n",
        "       'Existing Construction Type','Supervisor District','Zipcode']]\n",
        "\n",
        "y=data['Estimated Cost']"
      ],
      "execution_count": null,
      "outputs": []
    },
    {
      "cell_type": "code",
      "metadata": {
        "colab": {
          "base_uri": "https://localhost:8080/"
        },
        "id": "9lgSVAyQcvVo",
        "outputId": "be65514b-92ee-4ec3-ae58-a1ee3b063f0e"
      },
      "source": [
        "print(X.shape)\n",
        "print(y.shape)"
      ],
      "execution_count": null,
      "outputs": [
        {
          "output_type": "stream",
          "text": [
            "(182272, 12)\n",
            "(182272,)\n"
          ],
          "name": "stdout"
        }
      ]
    },
    {
      "cell_type": "code",
      "metadata": {
        "colab": {
          "base_uri": "https://localhost:8080/",
          "height": 212
        },
        "id": "rPb0s9vwc2Dg",
        "outputId": "c44da478-7ee6-4aca-dac7-d329a2512b84"
      },
      "source": [
        "X.head()"
      ],
      "execution_count": null,
      "outputs": [
        {
          "output_type": "execute_result",
          "data": {
            "text/html": [
              "<div>\n",
              "<style scoped>\n",
              "    .dataframe tbody tr th:only-of-type {\n",
              "        vertical-align: middle;\n",
              "    }\n",
              "\n",
              "    .dataframe tbody tr th {\n",
              "        vertical-align: top;\n",
              "    }\n",
              "\n",
              "    .dataframe thead th {\n",
              "        text-align: right;\n",
              "    }\n",
              "</style>\n",
              "<table border=\"1\" class=\"dataframe\">\n",
              "  <thead>\n",
              "    <tr style=\"text-align: right;\">\n",
              "      <th></th>\n",
              "      <th>Permit Type</th>\n",
              "      <th>Current Status</th>\n",
              "      <th>Number of Existing Stories</th>\n",
              "      <th>Number of Proposed Stories</th>\n",
              "      <th>Revised Cost</th>\n",
              "      <th>Existing Units</th>\n",
              "      <th>Proposed Units</th>\n",
              "      <th>Plansets</th>\n",
              "      <th>Proposed Construction Type</th>\n",
              "      <th>Existing Construction Type</th>\n",
              "      <th>Supervisor District</th>\n",
              "      <th>Zipcode</th>\n",
              "    </tr>\n",
              "  </thead>\n",
              "  <tbody>\n",
              "    <tr>\n",
              "      <th>0</th>\n",
              "      <td>4</td>\n",
              "      <td>expired</td>\n",
              "      <td>6.0</td>\n",
              "      <td>6.0</td>\n",
              "      <td>4000.0</td>\n",
              "      <td>143.0</td>\n",
              "      <td>143.0</td>\n",
              "      <td>2.0</td>\n",
              "      <td>3.0</td>\n",
              "      <td>3.0</td>\n",
              "      <td>3.0</td>\n",
              "      <td>94102.0</td>\n",
              "    </tr>\n",
              "    <tr>\n",
              "      <th>1</th>\n",
              "      <td>4</td>\n",
              "      <td>issued</td>\n",
              "      <td>7.0</td>\n",
              "      <td>7.0</td>\n",
              "      <td>500.0</td>\n",
              "      <td>143.0</td>\n",
              "      <td>143.0</td>\n",
              "      <td>2.0</td>\n",
              "      <td>3.0</td>\n",
              "      <td>3.0</td>\n",
              "      <td>3.0</td>\n",
              "      <td>94102.0</td>\n",
              "    </tr>\n",
              "    <tr>\n",
              "      <th>2</th>\n",
              "      <td>8</td>\n",
              "      <td>complete</td>\n",
              "      <td>2.0</td>\n",
              "      <td>2.0</td>\n",
              "      <td>2000.0</td>\n",
              "      <td>1.0</td>\n",
              "      <td>1.0</td>\n",
              "      <td>2.0</td>\n",
              "      <td>5.0</td>\n",
              "      <td>5.0</td>\n",
              "      <td>3.0</td>\n",
              "      <td>94109.0</td>\n",
              "    </tr>\n",
              "    <tr>\n",
              "      <th>3</th>\n",
              "      <td>6</td>\n",
              "      <td>issued</td>\n",
              "      <td>3.0</td>\n",
              "      <td>3.0</td>\n",
              "      <td>100000.0</td>\n",
              "      <td>1.0</td>\n",
              "      <td>1.0</td>\n",
              "      <td>2.0</td>\n",
              "      <td>3.0</td>\n",
              "      <td>3.0</td>\n",
              "      <td>6.0</td>\n",
              "      <td>94102.0</td>\n",
              "    </tr>\n",
              "    <tr>\n",
              "      <th>4</th>\n",
              "      <td>8</td>\n",
              "      <td>issued</td>\n",
              "      <td>5.0</td>\n",
              "      <td>5.0</td>\n",
              "      <td>4000.0</td>\n",
              "      <td>326.0</td>\n",
              "      <td>326.0</td>\n",
              "      <td>2.0</td>\n",
              "      <td>1.0</td>\n",
              "      <td>1.0</td>\n",
              "      <td>10.0</td>\n",
              "      <td>94107.0</td>\n",
              "    </tr>\n",
              "  </tbody>\n",
              "</table>\n",
              "</div>"
            ],
            "text/plain": [
              "   Permit Type Current Status  ...  Supervisor District  Zipcode\n",
              "0            4        expired  ...                  3.0  94102.0\n",
              "1            4         issued  ...                  3.0  94102.0\n",
              "2            8       complete  ...                  3.0  94109.0\n",
              "3            6         issued  ...                  6.0  94102.0\n",
              "4            8         issued  ...                 10.0  94107.0\n",
              "\n",
              "[5 rows x 12 columns]"
            ]
          },
          "metadata": {
            "tags": []
          },
          "execution_count": 161
        }
      ]
    },
    {
      "cell_type": "code",
      "metadata": {
        "colab": {
          "base_uri": "https://localhost:8080/"
        },
        "id": "yBFVAA-GfxjY",
        "outputId": "00d7f831-488f-4da3-e720-48dfcbe05c28"
      },
      "source": [
        "from sklearn.model_selection import train_test_split\n",
        "x_train,x_test,y_train,y_test=train_test_split(X,y,test_size=0.30,random_state=31)\n",
        "print('the shape of x_train is: ',x_train.shape)\n",
        "print('the shape of x_test is: ',x_test.shape)"
      ],
      "execution_count": null,
      "outputs": [
        {
          "output_type": "stream",
          "text": [
            "the shape of x_train is:  (127590, 12)\n",
            "the shape of x_test is:  (54682, 12)\n"
          ],
          "name": "stdout"
        }
      ]
    },
    {
      "cell_type": "code",
      "metadata": {
        "id": "TAlysKgKiVh5"
      },
      "source": [
        "from sklearn.preprocessing import Normalizer\n",
        "normalizer=Normalizer()"
      ],
      "execution_count": null,
      "outputs": []
    },
    {
      "cell_type": "markdown",
      "metadata": {
        "id": "gh-zgMIOPw5M"
      },
      "source": [
        "normalizing permit type"
      ]
    },
    {
      "cell_type": "code",
      "metadata": {
        "id": "mhptsUw0P0by"
      },
      "source": [
        "normalizer.fit(x_train['Permit Type'].values.reshape(1,-1))\n",
        "\n",
        "x_train_Permit_Type = normalizer.transform(x_train['Permit Type'].values.reshape(1,-1))\n",
        "x_test_Permit_Type = normalizer.transform(x_test['Permit Type'].values.reshape(1,-1))"
      ],
      "execution_count": null,
      "outputs": []
    },
    {
      "cell_type": "code",
      "metadata": {
        "id": "KO_H7qJDP0bz"
      },
      "source": [
        "x_train_Permit_Type=x_train_Permit_Type.reshape(-1,1)\n",
        "x_test_Permit_Type=x_test_Permit_Type.reshape(-1,1)"
      ],
      "execution_count": null,
      "outputs": []
    },
    {
      "cell_type": "markdown",
      "metadata": {
        "id": "kiA0xtCsQ8ed"
      },
      "source": [
        "encoding current status"
      ]
    },
    {
      "cell_type": "code",
      "metadata": {
        "id": "1mhAnxtrRADb"
      },
      "source": [
        "from sklearn.feature_extraction.text import CountVectorizer\n",
        "vectorize=CountVectorizer(binary=True)\n",
        "vectorize.fit(x_train['Current Status'].values)\n",
        "x_train_Current_Status=vectorize.transform(x_train['Current Status'].values)\n",
        "x_test_Current_Status=vectorize.transform(x_test['Current Status'].values)"
      ],
      "execution_count": null,
      "outputs": []
    },
    {
      "cell_type": "markdown",
      "metadata": {
        "id": "CKIno4qNQGw2"
      },
      "source": [
        "normalizing proposed construction type"
      ]
    },
    {
      "cell_type": "code",
      "metadata": {
        "id": "MsRiBV1dQKuI"
      },
      "source": [
        "normalizer.fit(x_train['Proposed Construction Type'].values.reshape(1,-1))\n",
        "\n",
        "x_train_Proposed_Construction_Type = normalizer.transform(x_train['Proposed Construction Type'].values.reshape(1,-1))\n",
        "x_test_Proposed_Construction_Type = normalizer.transform(x_test['Proposed Construction Type'].values.reshape(1,-1))"
      ],
      "execution_count": null,
      "outputs": []
    },
    {
      "cell_type": "code",
      "metadata": {
        "id": "GumJz5DAQKuJ"
      },
      "source": [
        "x_train_Proposed_Construction_Type=x_train_Proposed_Construction_Type.reshape(-1,1)\n",
        "x_test_Proposed_Construction_Type=x_test_Proposed_Construction_Type.reshape(-1,1)"
      ],
      "execution_count": null,
      "outputs": []
    },
    {
      "cell_type": "markdown",
      "metadata": {
        "id": "pPqKF0lSQaez"
      },
      "source": [
        "normalising exisitng construction type"
      ]
    },
    {
      "cell_type": "code",
      "metadata": {
        "id": "Kr1C4GelQhMa"
      },
      "source": [
        "normalizer.fit(x_train['Existing Construction Type'].values.reshape(1,-1))\n",
        "\n",
        "x_train_Existing_Construction_Type = normalizer.transform(x_train['Existing Construction Type'].values.reshape(1,-1))\n",
        "x_test_Existing_Construction_Type = normalizer.transform(x_test['Existing Construction Type'].values.reshape(1,-1))"
      ],
      "execution_count": null,
      "outputs": []
    },
    {
      "cell_type": "code",
      "metadata": {
        "id": "0WvLqaSMQhMb"
      },
      "source": [
        "x_train_Existing_Construction_Type=x_train_Existing_Construction_Type.reshape(-1,1)\n",
        "x_test_Existing_Construction_Type=x_test_Existing_Construction_Type.reshape(-1,1)"
      ],
      "execution_count": null,
      "outputs": []
    },
    {
      "cell_type": "markdown",
      "metadata": {
        "id": "iFtB3N7ejLSg"
      },
      "source": [
        "Normalizing Number of exisiting stories"
      ]
    },
    {
      "cell_type": "code",
      "metadata": {
        "id": "V245wQiGiW7J"
      },
      "source": [
        "normalizer.fit(x_train['Number of Existing Stories'].values.reshape(1,-1))\n",
        "\n",
        "x_train_existing_stories = normalizer.transform(x_train['Number of Existing Stories'].values.reshape(1,-1))\n",
        "x_test_existing_stories = normalizer.transform(x_test['Number of Existing Stories'].values.reshape(1,-1))"
      ],
      "execution_count": null,
      "outputs": []
    },
    {
      "cell_type": "code",
      "metadata": {
        "id": "PUCyvZqqj5I4"
      },
      "source": [
        "x_train_existing_stories=x_train_existing_stories.reshape(-1,1)\n",
        "x_test_existing_stories=x_test_existing_stories.reshape(-1,1)"
      ],
      "execution_count": null,
      "outputs": []
    },
    {
      "cell_type": "markdown",
      "metadata": {
        "id": "tex7QQLhjQD3"
      },
      "source": [
        "Normalizing Number of Proposed stories"
      ]
    },
    {
      "cell_type": "code",
      "metadata": {
        "id": "zy3idB6MjUyG"
      },
      "source": [
        "normalizer.fit(x_train['Number of Proposed Stories'].values.reshape(1,-1))\n",
        "\n",
        "x_train_proposed_stories = normalizer.transform(x_train['Number of Proposed Stories'].values.reshape(1,-1))\n",
        "x_test_proposed_stories = normalizer.transform(x_test['Number of Proposed Stories'].values.reshape(1,-1))"
      ],
      "execution_count": null,
      "outputs": []
    },
    {
      "cell_type": "code",
      "metadata": {
        "id": "6LT5Ke4AkCc4"
      },
      "source": [
        "x_train_proposed_stories=x_train_proposed_stories.reshape(-1,1)\n",
        "x_test_proposed_stories=x_test_proposed_stories.reshape(-1,1)"
      ],
      "execution_count": null,
      "outputs": []
    },
    {
      "cell_type": "markdown",
      "metadata": {
        "id": "Q7qtMmLxjfDI"
      },
      "source": [
        "Normalizing revised cost"
      ]
    },
    {
      "cell_type": "code",
      "metadata": {
        "id": "rGC9toYvji34"
      },
      "source": [
        "normalizer.fit(x_train['Revised Cost'].values.reshape(1,-1))\n",
        "\n",
        "x_train_revised_cost = normalizer.transform(x_train['Revised Cost'].values.reshape(1,-1))\n",
        "x_test_revised_cost = normalizer.transform(x_test['Revised Cost'].values.reshape(1,-1))"
      ],
      "execution_count": null,
      "outputs": []
    },
    {
      "cell_type": "code",
      "metadata": {
        "id": "LEHdgRLSkJZQ"
      },
      "source": [
        "x_train_revised_cost=x_train_revised_cost.reshape(-1,1)\n",
        "x_test_revised_cost=x_test_revised_cost.reshape(-1,1)"
      ],
      "execution_count": null,
      "outputs": []
    },
    {
      "cell_type": "markdown",
      "metadata": {
        "id": "gKjkArXskSqw"
      },
      "source": [
        "Normalizing existing units\n"
      ]
    },
    {
      "cell_type": "code",
      "metadata": {
        "id": "4dCrxw2kkX1p"
      },
      "source": [
        "normalizer.fit(x_train['Existing Units'].values.reshape(1,-1))\n",
        "\n",
        "x_train_existing_units = normalizer.transform(x_train['Existing Units'].values.reshape(1,-1))\n",
        "x_test_existing_units = normalizer.transform(x_test['Existing Units'].values.reshape(1,-1))"
      ],
      "execution_count": null,
      "outputs": []
    },
    {
      "cell_type": "code",
      "metadata": {
        "id": "5kHGwEohkX1q"
      },
      "source": [
        "x_train_existing_units=x_train_existing_units.reshape(-1,1)\n",
        "x_test_existing_units=x_test_existing_units.reshape(-1,1)"
      ],
      "execution_count": null,
      "outputs": []
    },
    {
      "cell_type": "markdown",
      "metadata": {
        "id": "HOD_8O-DNPzG"
      },
      "source": [
        "normalizing proposed units"
      ]
    },
    {
      "cell_type": "code",
      "metadata": {
        "id": "8MYjb4XlNTd7"
      },
      "source": [
        "normalizer.fit(x_train['Proposed Units'].values.reshape(1,-1))\n",
        "\n",
        "x_train_proposed_units = normalizer.transform(x_train['Proposed Units'].values.reshape(1,-1))\n",
        "x_test_proposed_units = normalizer.transform(x_test['Proposed Units'].values.reshape(1,-1))"
      ],
      "execution_count": null,
      "outputs": []
    },
    {
      "cell_type": "code",
      "metadata": {
        "id": "Lp-6yJO6NTd8"
      },
      "source": [
        "x_train_proposed_units=x_train_proposed_units.reshape(-1,1)\n",
        "x_test_proposed_units=x_test_proposed_units.reshape(-1,1)"
      ],
      "execution_count": null,
      "outputs": []
    },
    {
      "cell_type": "markdown",
      "metadata": {
        "id": "2CJfxGhRNsuM"
      },
      "source": [
        "normalizing plansets"
      ]
    },
    {
      "cell_type": "code",
      "metadata": {
        "id": "M3E_RIEtNxgb"
      },
      "source": [
        "normalizer.fit(x_train['Plansets'].values.reshape(1,-1))\n",
        "\n",
        "x_train_plansets = normalizer.transform(x_train['Plansets'].values.reshape(1,-1))\n",
        "x_test_plansets = normalizer.transform(x_test['Plansets'].values.reshape(1,-1))"
      ],
      "execution_count": null,
      "outputs": []
    },
    {
      "cell_type": "code",
      "metadata": {
        "id": "GnxNoT6sNxgc"
      },
      "source": [
        "x_train_plansets=x_train_plansets.reshape(-1,1)\n",
        "x_test_plansets=x_test_plansets.reshape(-1,1)"
      ],
      "execution_count": null,
      "outputs": []
    },
    {
      "cell_type": "markdown",
      "metadata": {
        "id": "WGzSrAlzOB7E"
      },
      "source": [
        "normalizing Supervisor District"
      ]
    },
    {
      "cell_type": "code",
      "metadata": {
        "id": "yPQQ3AckOSx9"
      },
      "source": [
        "normalizer.fit(x_train['Supervisor District'].values.reshape(1,-1))\n",
        "\n",
        "x_train_Supervisor_District = normalizer.transform(x_train['Supervisor District'].values.reshape(1,-1))\n",
        "x_test_Supervisor_District = normalizer.transform(x_test['Supervisor District'].values.reshape(1,-1))"
      ],
      "execution_count": null,
      "outputs": []
    },
    {
      "cell_type": "code",
      "metadata": {
        "id": "onOaPgGNOd0b"
      },
      "source": [
        "x_train_Supervisor_District=x_train_Supervisor_District.reshape(-1,1)\n",
        "x_test_Supervisor_District=x_test_Supervisor_District.reshape(-1,1)"
      ],
      "execution_count": null,
      "outputs": []
    },
    {
      "cell_type": "markdown",
      "metadata": {
        "id": "ekD8fAvcOlcF"
      },
      "source": [
        "normalizing zipcode"
      ]
    },
    {
      "cell_type": "code",
      "metadata": {
        "id": "o6LgpFM3OpdB"
      },
      "source": [
        "normalizer.fit(x_train['Zipcode'].values.reshape(1,-1))\n",
        "\n",
        "x_train_zipcode = normalizer.transform(x_train['Zipcode'].values.reshape(1,-1))\n",
        "x_test_zipcode = normalizer.transform(x_test['Zipcode'].values.reshape(1,-1))"
      ],
      "execution_count": null,
      "outputs": []
    },
    {
      "cell_type": "code",
      "metadata": {
        "id": "f0mVtus6OpdC"
      },
      "source": [
        "x_train_zipcode=x_train_zipcode.reshape(-1,1)\n",
        "x_test_zipcode=x_test_zipcode.reshape(-1,1)"
      ],
      "execution_count": null,
      "outputs": []
    },
    {
      "cell_type": "markdown",
      "metadata": {
        "id": "n_R_kyg8SRs6"
      },
      "source": [
        "normalizing estmated cost"
      ]
    },
    {
      "cell_type": "code",
      "metadata": {
        "id": "laVExOQcSUWO"
      },
      "source": [
        "normalizer.fit(y_train.values.reshape(1,-1))\n",
        "y_train_estimated_cost = normalizer.transform(y_train.values.reshape(1,-1))\n",
        "y_test_estimated_cost = normalizer.transform(y_test.values.reshape(1,-1))"
      ],
      "execution_count": null,
      "outputs": []
    },
    {
      "cell_type": "code",
      "metadata": {
        "id": "tPQRSH4yTDXD"
      },
      "source": [
        "y_train_estimated_cost=y_train_estimated_cost.reshape(-1,1)\n",
        "y_test_estimated_cost=y_test_estimated_cost.reshape(-1,1)"
      ],
      "execution_count": null,
      "outputs": []
    },
    {
      "cell_type": "markdown",
      "metadata": {
        "id": "e9fuPNEmPFoz"
      },
      "source": [
        "combine all"
      ]
    },
    {
      "cell_type": "code",
      "metadata": {
        "id": "sGdbf3UFPHMD"
      },
      "source": [
        "from scipy.sparse import hstack\n",
        "x_train_final=hstack((x_train_Permit_Type,x_train_Current_Status,x_train_Proposed_Construction_Type,x_train_Existing_Construction_Type,x_train_existing_stories,\n",
        "                      x_train_proposed_stories,x_train_revised_cost,x_train_existing_units,x_train_proposed_units,x_train_plansets,x_train_Supervisor_District,x_train_zipcode)).tocsr()\n",
        "\n",
        "x_test_final=hstack((x_test_Permit_Type,x_test_Current_Status,x_test_Proposed_Construction_Type,x_test_Existing_Construction_Type,x_test_existing_stories,\n",
        "              x_test_proposed_stories,x_test_revised_cost,x_test_existing_units,x_test_proposed_units,x_test_plansets,x_test_Supervisor_District,x_test_zipcode)).tocsr()\n"
      ],
      "execution_count": null,
      "outputs": []
    },
    {
      "cell_type": "code",
      "metadata": {
        "colab": {
          "base_uri": "https://localhost:8080/"
        },
        "id": "-aYSwsBgT1m_",
        "outputId": "9b4e97aa-9385-460e-e637-6ff2c40356de"
      },
      "source": [
        "from sklearn.linear_model import LinearRegression\n",
        "regression_model=LinearRegression()\n",
        "regression_model.fit(x_train_final,y_train_estimated_cost)"
      ],
      "execution_count": null,
      "outputs": [
        {
          "output_type": "execute_result",
          "data": {
            "text/plain": [
              "LinearRegression(copy_X=True, fit_intercept=True, n_jobs=None, normalize=False)"
            ]
          },
          "metadata": {
            "tags": []
          },
          "execution_count": 190
        }
      ]
    },
    {
      "cell_type": "code",
      "metadata": {
        "colab": {
          "base_uri": "https://localhost:8080/"
        },
        "id": "iluhU_DrT9bb",
        "outputId": "4b8381c2-632d-43da-da87-b9c15c0f9a38"
      },
      "source": [
        "regression_model.score(x_test_final,y_test_estimated_cost)"
      ],
      "execution_count": null,
      "outputs": [
        {
          "output_type": "execute_result",
          "data": {
            "text/plain": [
              "0.9501953983319095"
            ]
          },
          "metadata": {
            "tags": []
          },
          "execution_count": 191
        }
      ]
    },
    {
      "cell_type": "code",
      "metadata": {
        "colab": {
          "base_uri": "https://localhost:8080/"
        },
        "id": "E8Pi1qw4UCjW",
        "outputId": "c07b180e-a3b2-41e4-dee6-cb0c37423a36"
      },
      "source": [
        "regression_model.score(x_train_final,y_train_estimated_cost)"
      ],
      "execution_count": null,
      "outputs": [
        {
          "output_type": "execute_result",
          "data": {
            "text/plain": [
              "0.9741229440422668"
            ]
          },
          "metadata": {
            "tags": []
          },
          "execution_count": 192
        }
      ]
    },
    {
      "cell_type": "markdown",
      "metadata": {
        "id": "0jZvSDAYEmLm"
      },
      "source": [
        "**Getting 95% accuracy in testing data and getting 97% accuracy in train data**"
      ]
    },
    {
      "cell_type": "code",
      "metadata": {
        "id": "RYiUBDQFrwXs"
      },
      "source": [
        "from sklearn.metrics import accuracy_score,confusion_matrix,classification_report,precision_score,recall_score"
      ],
      "execution_count": null,
      "outputs": []
    },
    {
      "cell_type": "code",
      "metadata": {
        "id": "LY7KfeBoIOT7"
      },
      "source": [
        "model_new = LinearRegression()"
      ],
      "execution_count": null,
      "outputs": []
    },
    {
      "cell_type": "code",
      "metadata": {
        "id": "VgpdkqcIrytD"
      },
      "source": [
        "def run_model(model, X_train, y_train, X_test, y_test):\n",
        "    model.fit(X_train,y_train.ravel())\n",
        "    y_pred = model.predict(X_test)\n",
        "    accuracy = model.score(y_test, y_pred)\n",
        "    #print(\"pricison_score: \",precision_score(y_test, y_pred))\n",
        "    #print(\"recall_score: \",recall_score(y_test, y_pred))\n",
        "    #print(\"Accuracy = {}\".format(accuracy))\n",
        "    #print(classification_report(y_test,y_pred,digits=5))\n",
        "    #print(confusion_matrix(y_test,y_pred))"
      ],
      "execution_count": null,
      "outputs": []
    },
    {
      "cell_type": "code",
      "metadata": {
        "colab": {
          "base_uri": "https://localhost:8080/"
        },
        "id": "LNAp1pJOA7Ml",
        "outputId": "bec1f349-7595-41b0-d601-cbaaf9bbfcb7"
      },
      "source": [
        "x_train_final.shape"
      ],
      "execution_count": null,
      "outputs": [
        {
          "output_type": "execute_result",
          "data": {
            "text/plain": [
              "(127590, 20)"
            ]
          },
          "metadata": {
            "tags": []
          },
          "execution_count": 196
        }
      ]
    },
    {
      "cell_type": "code",
      "metadata": {
        "id": "bEwKtpeF_uwT"
      },
      "source": [
        "model_new.fit(x_train_final,y_train_estimated_cost)\n",
        "y_pred = model_new.predict(x_test_final)"
      ],
      "execution_count": null,
      "outputs": []
    },
    {
      "cell_type": "code",
      "metadata": {
        "colab": {
          "base_uri": "https://localhost:8080/"
        },
        "id": "ie4BJh43Bu6p",
        "outputId": "35a57dcf-bfc2-49a2-d261-211e40aeaa10"
      },
      "source": [
        "y_pred.shape"
      ],
      "execution_count": null,
      "outputs": [
        {
          "output_type": "execute_result",
          "data": {
            "text/plain": [
              "(54682, 1)"
            ]
          },
          "metadata": {
            "tags": []
          },
          "execution_count": 198
        }
      ]
    }
  ]
}