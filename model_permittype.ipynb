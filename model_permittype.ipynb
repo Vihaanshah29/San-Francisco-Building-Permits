{
  "nbformat": 4,
  "nbformat_minor": 0,
  "metadata": {
    "colab": {
      "name": "Vihaan_capstone_model_permittype.ipynb",
      "provenance": [],
      "collapsed_sections": []
    },
    "kernelspec": {
      "name": "python3",
      "display_name": "Python 3"
    },
    "language_info": {
      "name": "python"
    }
  },
  "cells": [
    {
      "cell_type": "code",
      "metadata": {
        "id": "DaxqMQVy5bEQ"
      },
      "source": [
        "import numpy as np\n",
        "import pandas as pd\n",
        "import matplotlib.pyplot as plt\n",
        "import seaborn as sns\n",
        "import warnings\n",
        "warnings.filterwarnings('ignore')\n",
        "sns.set()"
      ],
      "execution_count": 9,
      "outputs": []
    },
    {
      "cell_type": "code",
      "metadata": {
        "colab": {
          "base_uri": "https://localhost:8080/"
        },
        "id": "UqLeZysz5CW0",
        "outputId": "b25f0306-80ca-4d92-ba06-f6d26cf27584"
      },
      "source": [
        "from google.colab import drive\n",
        "drive.mount('/content/drive')"
      ],
      "execution_count": 10,
      "outputs": [
        {
          "output_type": "stream",
          "text": [
            "Drive already mounted at /content/drive; to attempt to forcibly remount, call drive.mount(\"/content/drive\", force_remount=True).\n"
          ],
          "name": "stdout"
        }
      ]
    },
    {
      "cell_type": "code",
      "metadata": {
        "id": "8Nc2T63h5Ojt"
      },
      "source": [
        "data = pd.read_csv('/content/drive/MyDrive/capstone_final_preprocessed_data.csv')"
      ],
      "execution_count": 11,
      "outputs": []
    },
    {
      "cell_type": "code",
      "metadata": {
        "id": "RhRy5-vKaYzx"
      },
      "source": [
        "data=data.drop('Unnamed: 0',axis=1)"
      ],
      "execution_count": 12,
      "outputs": []
    },
    {
      "cell_type": "code",
      "metadata": {
        "colab": {
          "base_uri": "https://localhost:8080/",
          "height": 391
        },
        "id": "C_N1oIu-6tbN",
        "outputId": "4ebe827f-7c9e-44ad-a9b4-247a6ac6bd78"
      },
      "source": [
        "data.head()"
      ],
      "execution_count": 13,
      "outputs": [
        {
          "output_type": "execute_result",
          "data": {
            "text/html": [
              "<div>\n",
              "<style scoped>\n",
              "    .dataframe tbody tr th:only-of-type {\n",
              "        vertical-align: middle;\n",
              "    }\n",
              "\n",
              "    .dataframe tbody tr th {\n",
              "        vertical-align: top;\n",
              "    }\n",
              "\n",
              "    .dataframe thead th {\n",
              "        text-align: right;\n",
              "    }\n",
              "</style>\n",
              "<table border=\"1\" class=\"dataframe\">\n",
              "  <thead>\n",
              "    <tr style=\"text-align: right;\">\n",
              "      <th></th>\n",
              "      <th>Permit Number</th>\n",
              "      <th>Permit Type</th>\n",
              "      <th>Permit Type Definition</th>\n",
              "      <th>Permit Creation Date</th>\n",
              "      <th>Block</th>\n",
              "      <th>Lot</th>\n",
              "      <th>Street Number</th>\n",
              "      <th>Street Name</th>\n",
              "      <th>Street Suffix</th>\n",
              "      <th>Description</th>\n",
              "      <th>Current Status</th>\n",
              "      <th>Current Status Date</th>\n",
              "      <th>Filed Date</th>\n",
              "      <th>Issued Date</th>\n",
              "      <th>First Construction Document Date</th>\n",
              "      <th>Number of Existing Stories</th>\n",
              "      <th>Number of Proposed Stories</th>\n",
              "      <th>Permit Expiration Date</th>\n",
              "      <th>Estimated Cost</th>\n",
              "      <th>Revised Cost</th>\n",
              "      <th>Existing Use</th>\n",
              "      <th>Existing Units</th>\n",
              "      <th>Proposed Use</th>\n",
              "      <th>Proposed Units</th>\n",
              "      <th>Plansets</th>\n",
              "      <th>Existing Construction Type</th>\n",
              "      <th>Existing Construction Type Description</th>\n",
              "      <th>Proposed Construction Type</th>\n",
              "      <th>Proposed Construction Type Description</th>\n",
              "      <th>Supervisor District</th>\n",
              "      <th>Neighborhoods - Analysis Boundaries</th>\n",
              "      <th>Zipcode</th>\n",
              "      <th>Location</th>\n",
              "      <th>Record ID</th>\n",
              "    </tr>\n",
              "  </thead>\n",
              "  <tbody>\n",
              "    <tr>\n",
              "      <th>0</th>\n",
              "      <td>201505065519</td>\n",
              "      <td>4</td>\n",
              "      <td>sign__erect</td>\n",
              "      <td>05/06/2015</td>\n",
              "      <td>0326</td>\n",
              "      <td>023</td>\n",
              "      <td>140</td>\n",
              "      <td>Ellis</td>\n",
              "      <td>St</td>\n",
              "      <td>ground fl facade: to erect illuminated, electr...</td>\n",
              "      <td>expired</td>\n",
              "      <td>12/21/2017</td>\n",
              "      <td>05/06/2015</td>\n",
              "      <td>11/09/2015</td>\n",
              "      <td>11/09/2015</td>\n",
              "      <td>6.0</td>\n",
              "      <td>6.0</td>\n",
              "      <td>11/03/2016</td>\n",
              "      <td>4000.0</td>\n",
              "      <td>4000.0</td>\n",
              "      <td>tourist_hotel/motel</td>\n",
              "      <td>143.0</td>\n",
              "      <td>tourist_hotel_motel</td>\n",
              "      <td>143.0</td>\n",
              "      <td>2.0</td>\n",
              "      <td>3.0</td>\n",
              "      <td>constr_type_3</td>\n",
              "      <td>3.0</td>\n",
              "      <td>constr_type_3</td>\n",
              "      <td>3.0</td>\n",
              "      <td>tenderloin</td>\n",
              "      <td>94102.0</td>\n",
              "      <td>(37.785719256680785, -122.40852313194863)</td>\n",
              "      <td>1380611233945</td>\n",
              "    </tr>\n",
              "    <tr>\n",
              "      <th>1</th>\n",
              "      <td>201604195146</td>\n",
              "      <td>4</td>\n",
              "      <td>sign__erect</td>\n",
              "      <td>04/19/2016</td>\n",
              "      <td>0306</td>\n",
              "      <td>007</td>\n",
              "      <td>440</td>\n",
              "      <td>Geary</td>\n",
              "      <td>St</td>\n",
              "      <td>remove (e) awning and associated signs.</td>\n",
              "      <td>issued</td>\n",
              "      <td>08/03/2017</td>\n",
              "      <td>04/19/2016</td>\n",
              "      <td>08/03/2017</td>\n",
              "      <td>08/03/2017</td>\n",
              "      <td>7.0</td>\n",
              "      <td>7.0</td>\n",
              "      <td>12/03/2017</td>\n",
              "      <td>1.0</td>\n",
              "      <td>500.0</td>\n",
              "      <td>tourist_hotel/motel</td>\n",
              "      <td>143.0</td>\n",
              "      <td>tourist_hotel_motel</td>\n",
              "      <td>143.0</td>\n",
              "      <td>2.0</td>\n",
              "      <td>3.0</td>\n",
              "      <td>constr_type_3</td>\n",
              "      <td>3.0</td>\n",
              "      <td>constr_type_3</td>\n",
              "      <td>3.0</td>\n",
              "      <td>tenderloin</td>\n",
              "      <td>94102.0</td>\n",
              "      <td>(37.78733980600732, -122.41063199757738)</td>\n",
              "      <td>1420164406718</td>\n",
              "    </tr>\n",
              "    <tr>\n",
              "      <th>2</th>\n",
              "      <td>201611072166</td>\n",
              "      <td>8</td>\n",
              "      <td>otc_alterations_permit</td>\n",
              "      <td>11/07/2016</td>\n",
              "      <td>0156</td>\n",
              "      <td>011</td>\n",
              "      <td>1230</td>\n",
              "      <td>Pacific</td>\n",
              "      <td>Av</td>\n",
              "      <td>repair dryrot &amp; stucco at front of bldg.</td>\n",
              "      <td>complete</td>\n",
              "      <td>07/24/2017</td>\n",
              "      <td>11/07/2016</td>\n",
              "      <td>07/18/2017</td>\n",
              "      <td>07/18/2017</td>\n",
              "      <td>2.0</td>\n",
              "      <td>2.0</td>\n",
              "      <td>07/13/2018</td>\n",
              "      <td>2000.0</td>\n",
              "      <td>2000.0</td>\n",
              "      <td>1_family_dwelling</td>\n",
              "      <td>1.0</td>\n",
              "      <td>1_family_dwelling</td>\n",
              "      <td>1.0</td>\n",
              "      <td>2.0</td>\n",
              "      <td>5.0</td>\n",
              "      <td>wood_frame_5</td>\n",
              "      <td>5.0</td>\n",
              "      <td>wood_frame_5</td>\n",
              "      <td>3.0</td>\n",
              "      <td>nob_hill</td>\n",
              "      <td>94109.0</td>\n",
              "      <td>(37.79595867909168, -122.41557405519474)</td>\n",
              "      <td>1443574295566</td>\n",
              "    </tr>\n",
              "    <tr>\n",
              "      <th>3</th>\n",
              "      <td>201611283529</td>\n",
              "      <td>6</td>\n",
              "      <td>demolitions</td>\n",
              "      <td>11/28/2016</td>\n",
              "      <td>0342</td>\n",
              "      <td>001</td>\n",
              "      <td>950</td>\n",
              "      <td>Market</td>\n",
              "      <td>St</td>\n",
              "      <td>demolish retail/office/commercial 3-story buil...</td>\n",
              "      <td>issued</td>\n",
              "      <td>12/01/2017</td>\n",
              "      <td>11/28/2016</td>\n",
              "      <td>12/01/2017</td>\n",
              "      <td>11/20/2017</td>\n",
              "      <td>3.0</td>\n",
              "      <td>3.0</td>\n",
              "      <td>12/01/2018</td>\n",
              "      <td>100000.0</td>\n",
              "      <td>100000.0</td>\n",
              "      <td>retail_sales</td>\n",
              "      <td>1.0</td>\n",
              "      <td>retail_sales</td>\n",
              "      <td>1.0</td>\n",
              "      <td>2.0</td>\n",
              "      <td>3.0</td>\n",
              "      <td>constr_type_3</td>\n",
              "      <td>3.0</td>\n",
              "      <td>constr_type_3</td>\n",
              "      <td>6.0</td>\n",
              "      <td>tenderloin</td>\n",
              "      <td>94102.0</td>\n",
              "      <td>(37.78315261897309, -122.40950883997789)</td>\n",
              "      <td>144548169992</td>\n",
              "    </tr>\n",
              "    <tr>\n",
              "      <th>4</th>\n",
              "      <td>201706149344</td>\n",
              "      <td>8</td>\n",
              "      <td>otc_alterations_permit</td>\n",
              "      <td>06/14/2017</td>\n",
              "      <td>4105</td>\n",
              "      <td>009</td>\n",
              "      <td>800</td>\n",
              "      <td>Indiana</td>\n",
              "      <td>St</td>\n",
              "      <td>evac maps</td>\n",
              "      <td>issued</td>\n",
              "      <td>07/06/2017</td>\n",
              "      <td>06/14/2017</td>\n",
              "      <td>07/06/2017</td>\n",
              "      <td>07/06/2017</td>\n",
              "      <td>5.0</td>\n",
              "      <td>5.0</td>\n",
              "      <td>07/01/2018</td>\n",
              "      <td>4000.0</td>\n",
              "      <td>4000.0</td>\n",
              "      <td>apartments</td>\n",
              "      <td>326.0</td>\n",
              "      <td>apartments</td>\n",
              "      <td>326.0</td>\n",
              "      <td>2.0</td>\n",
              "      <td>1.0</td>\n",
              "      <td>constr_type_1</td>\n",
              "      <td>1.0</td>\n",
              "      <td>constr_type_1</td>\n",
              "      <td>10.0</td>\n",
              "      <td>potrero_hill</td>\n",
              "      <td>94107.0</td>\n",
              "      <td>(37.75922331346539, -122.39170402628598)</td>\n",
              "      <td>1466911170855</td>\n",
              "    </tr>\n",
              "  </tbody>\n",
              "</table>\n",
              "</div>"
            ],
            "text/plain": [
              "  Permit Number  ...      Record ID\n",
              "0  201505065519  ...  1380611233945\n",
              "1  201604195146  ...  1420164406718\n",
              "2  201611072166  ...  1443574295566\n",
              "3  201611283529  ...   144548169992\n",
              "4  201706149344  ...  1466911170855\n",
              "\n",
              "[5 rows x 34 columns]"
            ]
          },
          "metadata": {
            "tags": []
          },
          "execution_count": 13
        }
      ]
    },
    {
      "cell_type": "code",
      "metadata": {
        "id": "J7PY3KzFK2uY"
      },
      "source": [
        "model_df=data[['Permit Type','Current Status','Number of Existing Stories',\n",
        "       'Number of Proposed Stories','Revised Cost','Existing Units' ,'Proposed Units','Plansets','Proposed Construction Type',\n",
        "       'Existing Construction Type','Supervisor District','Zipcode','Estimated Cost']]"
      ],
      "execution_count": 14,
      "outputs": []
    },
    {
      "cell_type": "code",
      "metadata": {
        "colab": {
          "base_uri": "https://localhost:8080/",
          "height": 237
        },
        "id": "QF6Fft3VK8AA",
        "outputId": "cd0e1d35-47e9-4430-aed1-c7e8ca274ad5"
      },
      "source": [
        "model_df.head()"
      ],
      "execution_count": 15,
      "outputs": [
        {
          "output_type": "execute_result",
          "data": {
            "text/html": [
              "<div>\n",
              "<style scoped>\n",
              "    .dataframe tbody tr th:only-of-type {\n",
              "        vertical-align: middle;\n",
              "    }\n",
              "\n",
              "    .dataframe tbody tr th {\n",
              "        vertical-align: top;\n",
              "    }\n",
              "\n",
              "    .dataframe thead th {\n",
              "        text-align: right;\n",
              "    }\n",
              "</style>\n",
              "<table border=\"1\" class=\"dataframe\">\n",
              "  <thead>\n",
              "    <tr style=\"text-align: right;\">\n",
              "      <th></th>\n",
              "      <th>Permit Type</th>\n",
              "      <th>Current Status</th>\n",
              "      <th>Number of Existing Stories</th>\n",
              "      <th>Number of Proposed Stories</th>\n",
              "      <th>Revised Cost</th>\n",
              "      <th>Existing Units</th>\n",
              "      <th>Proposed Units</th>\n",
              "      <th>Plansets</th>\n",
              "      <th>Proposed Construction Type</th>\n",
              "      <th>Existing Construction Type</th>\n",
              "      <th>Supervisor District</th>\n",
              "      <th>Zipcode</th>\n",
              "      <th>Estimated Cost</th>\n",
              "    </tr>\n",
              "  </thead>\n",
              "  <tbody>\n",
              "    <tr>\n",
              "      <th>0</th>\n",
              "      <td>4</td>\n",
              "      <td>expired</td>\n",
              "      <td>6.0</td>\n",
              "      <td>6.0</td>\n",
              "      <td>4000.0</td>\n",
              "      <td>143.0</td>\n",
              "      <td>143.0</td>\n",
              "      <td>2.0</td>\n",
              "      <td>3.0</td>\n",
              "      <td>3.0</td>\n",
              "      <td>3.0</td>\n",
              "      <td>94102.0</td>\n",
              "      <td>4000.0</td>\n",
              "    </tr>\n",
              "    <tr>\n",
              "      <th>1</th>\n",
              "      <td>4</td>\n",
              "      <td>issued</td>\n",
              "      <td>7.0</td>\n",
              "      <td>7.0</td>\n",
              "      <td>500.0</td>\n",
              "      <td>143.0</td>\n",
              "      <td>143.0</td>\n",
              "      <td>2.0</td>\n",
              "      <td>3.0</td>\n",
              "      <td>3.0</td>\n",
              "      <td>3.0</td>\n",
              "      <td>94102.0</td>\n",
              "      <td>1.0</td>\n",
              "    </tr>\n",
              "    <tr>\n",
              "      <th>2</th>\n",
              "      <td>8</td>\n",
              "      <td>complete</td>\n",
              "      <td>2.0</td>\n",
              "      <td>2.0</td>\n",
              "      <td>2000.0</td>\n",
              "      <td>1.0</td>\n",
              "      <td>1.0</td>\n",
              "      <td>2.0</td>\n",
              "      <td>5.0</td>\n",
              "      <td>5.0</td>\n",
              "      <td>3.0</td>\n",
              "      <td>94109.0</td>\n",
              "      <td>2000.0</td>\n",
              "    </tr>\n",
              "    <tr>\n",
              "      <th>3</th>\n",
              "      <td>6</td>\n",
              "      <td>issued</td>\n",
              "      <td>3.0</td>\n",
              "      <td>3.0</td>\n",
              "      <td>100000.0</td>\n",
              "      <td>1.0</td>\n",
              "      <td>1.0</td>\n",
              "      <td>2.0</td>\n",
              "      <td>3.0</td>\n",
              "      <td>3.0</td>\n",
              "      <td>6.0</td>\n",
              "      <td>94102.0</td>\n",
              "      <td>100000.0</td>\n",
              "    </tr>\n",
              "    <tr>\n",
              "      <th>4</th>\n",
              "      <td>8</td>\n",
              "      <td>issued</td>\n",
              "      <td>5.0</td>\n",
              "      <td>5.0</td>\n",
              "      <td>4000.0</td>\n",
              "      <td>326.0</td>\n",
              "      <td>326.0</td>\n",
              "      <td>2.0</td>\n",
              "      <td>1.0</td>\n",
              "      <td>1.0</td>\n",
              "      <td>10.0</td>\n",
              "      <td>94107.0</td>\n",
              "      <td>4000.0</td>\n",
              "    </tr>\n",
              "  </tbody>\n",
              "</table>\n",
              "</div>"
            ],
            "text/plain": [
              "   Permit Type Current Status  ...  Zipcode  Estimated Cost\n",
              "0            4        expired  ...  94102.0          4000.0\n",
              "1            4         issued  ...  94102.0             1.0\n",
              "2            8       complete  ...  94109.0          2000.0\n",
              "3            6         issued  ...  94102.0        100000.0\n",
              "4            8         issued  ...  94107.0          4000.0\n",
              "\n",
              "[5 rows x 13 columns]"
            ]
          },
          "metadata": {
            "tags": []
          },
          "execution_count": 15
        }
      ]
    },
    {
      "cell_type": "markdown",
      "metadata": {
        "id": "qaGtPgdXLC-K"
      },
      "source": [
        "encoding current status"
      ]
    },
    {
      "cell_type": "code",
      "metadata": {
        "id": "5BQM1qE-MBSx"
      },
      "source": [
        "from sklearn.preprocessing import LabelEncoder\n",
        "le=LabelEncoder()\n",
        "model_df['Current Status']=le.fit_transform(model_df['Current Status'])"
      ],
      "execution_count": 16,
      "outputs": []
    },
    {
      "cell_type": "code",
      "metadata": {
        "id": "1mT1dpsGPj-7"
      },
      "source": [
        "from sklearn.ensemble import ExtraTreesRegressor\n",
        "selection = ExtraTreesRegressor()"
      ],
      "execution_count": 17,
      "outputs": []
    },
    {
      "cell_type": "code",
      "metadata": {
        "colab": {
          "base_uri": "https://localhost:8080/"
        },
        "id": "CDqS-87IMh3J",
        "outputId": "c06a21d2-b57b-4081-9d05-7329d42588ce"
      },
      "source": [
        "features = model_df.drop(['Permit Type'],axis=1)\n",
        "target = model_df['Permit Type']\n",
        "selection.fit(features,target)"
      ],
      "execution_count": 18,
      "outputs": [
        {
          "output_type": "execute_result",
          "data": {
            "text/plain": [
              "ExtraTreesRegressor(bootstrap=False, ccp_alpha=0.0, criterion='mse',\n",
              "                    max_depth=None, max_features='auto', max_leaf_nodes=None,\n",
              "                    max_samples=None, min_impurity_decrease=0.0,\n",
              "                    min_impurity_split=None, min_samples_leaf=1,\n",
              "                    min_samples_split=2, min_weight_fraction_leaf=0.0,\n",
              "                    n_estimators=100, n_jobs=None, oob_score=False,\n",
              "                    random_state=None, verbose=0, warm_start=False)"
            ]
          },
          "metadata": {
            "tags": []
          },
          "execution_count": 18
        }
      ]
    },
    {
      "cell_type": "code",
      "metadata": {
        "colab": {
          "base_uri": "https://localhost:8080/",
          "height": 485
        },
        "id": "5rYRJuZNMr9W",
        "outputId": "8720d388-63cf-4a7b-eec9-4a3862d7c702"
      },
      "source": [
        "plt.figure(figsize = (12,8))\n",
        "feat_importances = pd.Series(selection.feature_importances_, index=features.columns)\n",
        "feat_importances.nlargest(15).plot(kind='barh')\n",
        "plt.show()"
      ],
      "execution_count": 19,
      "outputs": [
        {
          "output_type": "display_data",
          "data": {
            "image/png": "[encoded data removed]",
            "text/plain": [
              "<Figure size 864x576 with 1 Axes>"
            ]
          },
          "metadata": {
            "tags": []
          }
        }
      ]
    },
    {
      "cell_type": "code",
      "metadata": {
        "id": "kfjruZ_EMTSo"
      },
      "source": [
        "x=model_df.drop('Permit Type',axis=1)\n",
        "y=model_df['Permit Type']"
      ],
      "execution_count": 20,
      "outputs": []
    },
    {
      "cell_type": "code",
      "metadata": {
        "id": "FbwautgjMgux"
      },
      "source": [
        "from sklearn.preprocessing import StandardScaler\n",
        "scaler = StandardScaler()\n",
        "x_scal = scaler.fit_transform(x)"
      ],
      "execution_count": 21,
      "outputs": []
    },
    {
      "cell_type": "code",
      "metadata": {
        "id": "93M2-2EVMk0R"
      },
      "source": [
        "from sklearn.model_selection import train_test_split\n",
        "X_train,X_test,y_train,y_test = train_test_split(x_scal,y,test_size=0.3)"
      ],
      "execution_count": 22,
      "outputs": []
    },
    {
      "cell_type": "code",
      "metadata": {
        "id": "_81lZaBQIZvn"
      },
      "source": [
        "import matplotlib.pyplot as plt\n",
        "from sklearn import model_selection\n",
        "from sklearn.linear_model import LogisticRegression\n",
        "from sklearn.tree import DecisionTreeClassifier\n",
        "from sklearn.neighbors import KNeighborsRegressor\n",
        "from sklearn.discriminant_analysis import LinearDiscriminantAnalysis\n",
        "from sklearn.naive_bayes import GaussianNB\n",
        "from sklearn.svm import SVC\n",
        "from sklearn.model_selection import train_test_split\n",
        "from sklearn import datasets\n",
        "import matplotlib.pyplot as plt\n",
        "\n",
        "plt.style.use('ggplot')"
      ],
      "execution_count": 23,
      "outputs": []
    },
    {
      "cell_type": "code",
      "metadata": {
        "id": "BbQOUaTkgMoq"
      },
      "source": [
        ""
      ],
      "execution_count": 25,
      "outputs": []
    },
    {
      "cell_type": "code",
      "metadata": {
        "id": "-Tn6SQoOImYb"
      },
      "source": [
        "seed = 7\n",
        "X_train, X_test, y_train, y_test = train_test_split(x_scal,y,test_size=0.3)\n",
        "models = []\n",
        "models.append(('LR', LogisticRegression()))\n",
        "models.append(('LDA', LinearDiscriminantAnalysis()))\n",
        "#models.append(('KNN', KNeighborsRegressor()))\n",
        "models.append(('CART', DecisionTreeClassifier()))\n",
        "models.append(('NB', GaussianNB()))\n",
        "#models.append(('SVM', SVC()))"
      ],
      "execution_count": 26,
      "outputs": []
    },
    {
      "cell_type": "code",
      "metadata": {
        "id": "j1nGnBozJeOw",
        "colab": {
          "base_uri": "https://localhost:8080/",
          "height": 364
        },
        "outputId": "75937a72-6393-4b84-8dd4-5c9ea9468816"
      },
      "source": [
        "results = []\n",
        "names = []\n",
        "scoring = 'accuracy'\n",
        "for name, model in models:\n",
        "\tkfold = model_selection.KFold(n_splits=4)#, random_state=seed)\n",
        "\tcv_results = model_selection.cross_val_score(model, X_train, y_train, cv=kfold, scoring=scoring)\n",
        "\tresults.append(cv_results)\n",
        "\tnames.append(name)\n",
        "\tmsg = \"%s: %f (%f)\" % (name, cv_results.mean(), cv_results.std())\n",
        "\tprint(msg)\n",
        "# boxplot algorithm comparison\n",
        "fig = plt.figure()\n",
        "fig.suptitle('Algorithm Comparison')\n",
        "ax = fig.add_subplot(111)\n",
        "plt.boxplot(results)\n",
        "ax.set_xticklabels(names)\n",
        "plt.show()"
      ],
      "execution_count": 27,
      "outputs": [
        {
          "output_type": "stream",
          "text": [
            "LR: 0.929046 (0.001448)\n",
            "LDA: 0.926146 (0.001571)\n",
            "CART: 0.913920 (0.002532)\n",
            "NB: 0.142989 (0.050943)\n"
          ],
          "name": "stdout"
        },
        {
          "output_type": "display_data",
          "data": {
            "image/png": "[encoded data removed]",
            "text/plain": [
              "<Figure size 432x288 with 1 Axes>"
            ]
          },
          "metadata": {
            "tags": []
          }
        }
      ]
    },
    {
      "cell_type": "code",
      "metadata": {
        "id": "RYiUBDQFrwXs"
      },
      "source": [
        "from sklearn.metrics import accuracy_score,confusion_matrix,classification_report,precision_score,recall_score"
      ],
      "execution_count": 28,
      "outputs": []
    },
    {
      "cell_type": "code",
      "metadata": {
        "id": "LY7KfeBoIOT7"
      },
      "source": [
        "model_new = LogisticRegression()"
      ],
      "execution_count": 29,
      "outputs": []
    },
    {
      "cell_type": "code",
      "metadata": {
        "id": "VgpdkqcIrytD"
      },
      "source": [
        "def run_model(model, X_train, y_train, X_test, y_test):\n",
        "    model.fit(X_train,y_train.ravel())\n",
        "    y_pred = model.predict(X_test)\n",
        "    accuracy = accuracy_score(y_test, y_pred)\n",
        "    print(\"pricison_score: \",precision_score(y_test, y_pred,average='micro'))\n",
        "    print(\"recall_score: \",recall_score(y_test, y_pred,average='micro'))\n",
        "    print(\"Accuracy = {}\".format(accuracy))\n",
        "    print(classification_report(y_test,y_pred,digits=5))"
      ],
      "execution_count": 30,
      "outputs": []
    },
    {
      "cell_type": "code",
      "metadata": {
        "colab": {
          "base_uri": "https://localhost:8080/"
        },
        "id": "Mxp1whHor4nS",
        "outputId": "4edeb680-1ac8-4512-f9a4-78bc4f543453"
      },
      "source": [
        "run_model(model_new,X_train, y_train, X_test, y_test)"
      ],
      "execution_count": 31,
      "outputs": [
        {
          "output_type": "stream",
          "text": [
            "pricison_score:  0.9307998975897005\n",
            "recall_score:  0.9307998975897005\n",
            "Accuracy = 0.9307998975897005\n",
            "              precision    recall  f1-score   support\n",
            "\n",
            "           1    0.77143   0.52941   0.62791        51\n",
            "           2    0.66667   0.01130   0.02222       177\n",
            "           3    0.57455   0.10384   0.17590      2783\n",
            "           4    0.00000   0.00000   0.00000       688\n",
            "           5    0.00000   0.00000   0.00000        30\n",
            "           6    0.00000   0.00000   0.00000       124\n",
            "           7    0.00000   0.00000   0.00000       102\n",
            "           8    0.93423   0.99710   0.96464     50727\n",
            "\n",
            "    accuracy                        0.93080     54682\n",
            "   macro avg    0.36836   0.20521   0.22383     54682\n",
            "weighted avg    0.89878   0.93080   0.90448     54682\n",
            "\n"
          ],
          "name": "stdout"
        }
      ]
    },
    {
      "cell_type": "code",
      "metadata": {
        "id": "havJyUr2M9vJ"
      },
      "source": [
        "y_pred=model_new.predict(X_test)"
      ],
      "execution_count": 32,
      "outputs": []
    },
    {
      "cell_type": "code",
      "metadata": {
        "id": "uVNpHvrUNX6z"
      },
      "source": [
        "from sklearn.metrics import mean_squared_error,r2_score,mean_absolute_error,roc_curve\n",
        "import math"
      ],
      "execution_count": 33,
      "outputs": []
    },
    {
      "cell_type": "code",
      "metadata": {
        "colab": {
          "base_uri": "https://localhost:8080/"
        },
        "id": "sc73YrHUNkXw",
        "outputId": "65dbfb06-47d2-423a-95c4-d3ae3a97c9f9"
      },
      "source": [
        "mean_absolute_error(y_pred,y_test)"
      ],
      "execution_count": 34,
      "outputs": [
        {
          "output_type": "execute_result",
          "data": {
            "text/plain": [
              "0.3161186496470502"
            ]
          },
          "metadata": {
            "tags": []
          },
          "execution_count": 34
        }
      ]
    },
    {
      "cell_type": "code",
      "metadata": {
        "colab": {
          "base_uri": "https://localhost:8080/"
        },
        "id": "nI_DZh0XOCzp",
        "outputId": "b0cb1477-deff-4f7e-a2c0-5c2488c7a8d7"
      },
      "source": [
        "mean_squared_error(y_pred,y_test)"
      ],
      "execution_count": 35,
      "outputs": [
        {
          "output_type": "execute_result",
          "data": {
            "text/plain": [
              "1.5160747595186717"
            ]
          },
          "metadata": {
            "tags": []
          },
          "execution_count": 35
        }
      ]
    },
    {
      "cell_type": "code",
      "metadata": {
        "colab": {
          "base_uri": "https://localhost:8080/"
        },
        "id": "-yoWF4TqOuUT",
        "outputId": "ec905d75-e275-4615-c75f-065565beda6d"
      },
      "source": [
        "r2_score(y_pred,y_test)"
      ],
      "execution_count": 36,
      "outputs": [
        {
          "output_type": "execute_result",
          "data": {
            "text/plain": [
              "-4.814880925376668"
            ]
          },
          "metadata": {
            "tags": []
          },
          "execution_count": 36
        }
      ]
    },
    {
      "cell_type": "code",
      "metadata": {
        "id": "Qdx-lc01oPq5"
      },
      "source": [
        "from sklearn.ensemble import RandomForestClassifier\n",
        "model=RandomForestClassifier()"
      ],
      "execution_count": 3,
      "outputs": []
    },
    {
      "cell_type": "code",
      "metadata": {
        "id": "vK73en2PoAnJ"
      },
      "source": [
        "parameters={\"max_depth\" : [7,9,11],\n",
        "           \"min_samples_leaf\":[6,7,8,9],\n",
        "           'criterion':['gini','entropy'],\n",
        "           \"max_leaf_nodes\":[None,10,20,30] }\n"
      ],
      "execution_count": 38,
      "outputs": []
    },
    {
      "cell_type": "code",
      "metadata": {
        "id": "oo-iZUBwoL9g"
      },
      "source": [
        "from sklearn.model_selection import GridSearchCV\n",
        "tuning_model=GridSearchCV(model,param_grid=parameters,cv=3,verbose=77)"
      ],
      "execution_count": 39,
      "outputs": []
    },
    {
      "cell_type": "code",
      "metadata": {
        "id": "m1h9Vpi1odAu"
      },
      "source": [
        "tuning_model.fit(X_train,y_train)"
      ],
      "execution_count": null,
      "outputs": []
    },
    {
      "cell_type": "code",
      "metadata": {
        "id": "yZ5XFvtIov4J"
      },
      "source": [
        "tuning_model.best_params_\n"
      ],
      "execution_count": null,
      "outputs": []
    },
    {
      "cell_type": "code",
      "metadata": {
        "id": "caPay2PsyMq5"
      },
      "source": [
        "tuning_model.best_score_"
      ],
      "execution_count": null,
      "outputs": []
    },
    {
      "cell_type": "code",
      "metadata": {
        "id": "cikrg020bzFL"
      },
      "source": [
        "model_best=RandomForestClassifier(criterion= 'entropy',max_depth= 11,max_leaf_nodes= None,min_samples_leaf= 7)"
      ],
      "execution_count": 24,
      "outputs": []
    },
    {
      "cell_type": "code",
      "metadata": {
        "id": "7OBUBJQ60nQW"
      },
      "source": [
        "from sklearn.metrics import accuracy_score,confusion_matrix,classification_report,precision_score,recall_score"
      ],
      "execution_count": 25,
      "outputs": []
    },
    {
      "cell_type": "code",
      "metadata": {
        "id": "9pLbOS_N0ZWZ"
      },
      "source": [
        "def run_model(model, X_train, y_train, X_test, y_test):\n",
        "    model.fit(X_train,y_train.ravel())\n",
        "    y_pred = model.predict(X_test)\n",
        "    accuracy = accuracy_score(y_test, y_pred)\n",
        "    print(\"pricison_score: \",precision_score(y_test, y_pred,average='macro'))\n",
        "    print(\"recall_score: \",recall_score(y_test, y_pred,average='macro'))\n",
        "    print(\"Accuracy = {}\".format(accuracy))\n",
        "    print(classification_report(y_test,y_pred,digits=5))\n",
        "    print(confusion_matrix(y_test,y_pred))"
      ],
      "execution_count": 26,
      "outputs": []
    },
    {
      "cell_type": "code",
      "metadata": {
        "colab": {
          "base_uri": "https://localhost:8080/"
        },
        "id": "Hz3glIrq0g2t",
        "outputId": "a4ccc0de-6132-4513-d189-b437bf34d870"
      },
      "source": [
        "run_model(model_best,X_train, y_train, X_test, y_test)"
      ],
      "execution_count": 27,
      "outputs": [
        {
          "output_type": "stream",
          "text": [
            "pricison_score:  0.5536832471782405\n",
            "recall_score:  0.3248829540914108\n",
            "Accuracy = 0.9391755970886215\n",
            "              precision    recall  f1-score   support\n",
            "\n",
            "           1    0.93939   0.65957   0.77500        47\n",
            "           2    0.89764   0.66667   0.76510       171\n",
            "           3    0.77163   0.23515   0.36045      2845\n",
            "           4    0.87879   0.04067   0.07775       713\n",
            "           5    0.00000   0.00000   0.00000        25\n",
            "           6    0.00000   0.00000   0.00000       113\n",
            "           7    0.00000   0.00000   0.00000       103\n",
            "           8    0.94202   0.99700   0.96873     50665\n",
            "\n",
            "    accuracy                        0.93918     54682\n",
            "   macro avg    0.55368   0.32488   0.36838     54682\n",
            "weighted avg    0.92804   0.93918   0.92039     54682\n",
            "\n",
            "[[   31     1     4     0     0     0     0    11]\n",
            " [    1   114    40     0     0     0     0    16]\n",
            " [    1     8   669     0     0     0     0  2167]\n",
            " [    0     0     0    29     0     0     0   684]\n",
            " [    0     2     7     0     0     0     0    16]\n",
            " [    0     0     0     0     0     0     0   113]\n",
            " [    0     0     0     1     0     0     0   102]\n",
            " [    0     2   147     3     0     0     0 50513]]\n"
          ],
          "name": "stdout"
        }
      ]
    },
    {
      "cell_type": "code",
      "metadata": {
        "id": "5-GYcfJEMWCz"
      },
      "source": [
        "from sklearn.model_selection import GridSearchCV\n",
        "from sklearn.linear_model import LinearRegression\n"
      ],
      "execution_count": 29,
      "outputs": []
    },
    {
      "cell_type": "code",
      "metadata": {
        "colab": {
          "base_uri": "https://localhost:8080/"
        },
        "id": "oviLHs0JLaC5",
        "outputId": "95cf5966-0fd9-4f48-ecca-d1529873281c"
      },
      "source": [
        "from sklearn.tree import DecisionTreeClassifier\n",
        "from sklearn.cluster import KMeans\n",
        "from sklearn.svm import SVC\n",
        "from sklearn.linear_model import LogisticRegression\n",
        "from sklearn.naive_bayes import GaussianNB\n",
        "from sklearn.ensemble import RandomForestClassifier\n",
        "from sklearn.neighbors import KNeighborsClassifier\n",
        "\n",
        "\n",
        "km = KMeans(n_clusters=3,)\n",
        "\n",
        "\n",
        "model = [KNeighborsClassifier,DecisionTreeClassifier,RandomForestClassifier,SVC,KMeans,GaussianNB,LogisticRegression]\n",
        "\n",
        "for mod in model:\n",
        "    cls = mod()\n",
        "    cls = cls.fit(X_train,y_train)\n",
        "    print(mod , 'accuracy',cls.score(X_test,y_test))\n",
        "from sklearn.model_selection import KFold,cross_val_score\n",
        "models = []\n",
        "models.append(('KNN', KNeighborsClassifier()))\n",
        "models.append(('CART', DecisionTreeClassifier()))\n",
        "models.append(('RF', RandomForestClassifier()))\n",
        "models.append(('KMeans',KMeans(n_clusters=3)))  \n",
        "models.append(('Naive Bayes', GaussianNB()))\n",
        "models.append(('Logistic Regression', LogisticRegression()))\n",
        "\n",
        "              \n",
        "results = []\n",
        "names = []\n",
        "for name,model in models:\n",
        "    kfold = KFold(n_splits=10)\n",
        "    cv_result =cross_val_score(model,X_train,y_train,cv=kfold)\n",
        "    names.append(name)\n",
        "    results.append(cv_result)\n",
        "for i in range(len(names)):\n",
        "    print(names[i],results[i].mean())"
      ],
      "execution_count": 30,
      "outputs": [
        {
          "output_type": "stream",
          "text": [
            "<class 'sklearn.neighbors._classification.KNeighborsClassifier'> accuracy 0.9349145971251966\n",
            "<class 'sklearn.tree._classes.DecisionTreeClassifier'> accuracy 0.9167367689550492\n",
            "<class 'sklearn.ensemble._forest.RandomForestClassifier'> accuracy 0.9448813137778428\n",
            "<class 'sklearn.svm._classes.SVC'> accuracy 0.9310010606781025\n",
            "<class 'sklearn.cluster._kmeans.KMeans'> accuracy -251373.47594503258\n",
            "<class 'sklearn.naive_bayes.GaussianNB'> accuracy 0.1701473976811382\n",
            "<class 'sklearn.linear_model._logistic.LogisticRegression'> accuracy 0.929556343952306\n",
            "KNN 0.9338506152519791\n",
            "CART 0.9146328082138098\n",
            "RF 0.9438827494317736\n",
            "KMeans -109312.74692544571\n",
            "Naive Bayes 0.1820989105729289\n",
            "Logistic Regression 0.9295085821772867\n"
          ],
          "name": "stdout"
        }
      ]
    },
    {
      "cell_type": "code",
      "metadata": {
        "id": "YKJw3Tx2RZwT"
      },
      "source": [
        "from sklearn.ensemble import AdaBoostRegressor\n"
      ],
      "execution_count": 31,
      "outputs": []
    },
    {
      "cell_type": "code",
      "metadata": {
        "colab": {
          "base_uri": "https://localhost:8080/"
        },
        "id": "ZFRq9_qjRU5y",
        "outputId": "01e49371-9809-4a77-d2dd-c1c2fa09d07c"
      },
      "source": [
        "boost = AdaBoostRegressor(n_estimators=100)\n",
        "boost.fit(X_train,y_train)\n",
        "print(boost.score(X_train,y_train))\n",
        "print(boost.score(X_test,y_test))"
      ],
      "execution_count": 32,
      "outputs": [
        {
          "output_type": "stream",
          "text": [
            "-0.04884024517102059\n",
            "-0.051272257682879685\n"
          ],
          "name": "stdout"
        }
      ]
    }
  ]
}